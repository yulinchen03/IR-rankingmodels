{
 "cells": [
  {
   "cell_type": "markdown",
   "source": [
    "## Getting started (Adjust settings to your experiment's needs)"
   ],
   "metadata": {
    "collapsed": false
   },
   "id": "317b36640a1a5743"
  },
  {
   "cell_type": "code",
   "execution_count": 1,
   "id": "initial_id",
   "metadata": {
    "collapsed": true,
    "ExecuteTime": {
     "end_time": "2025-03-29T19:17:46.195492500Z",
     "start_time": "2025-03-29T19:17:39.710704400Z"
    }
   },
   "outputs": [],
   "source": [
    "import os\n",
    "import logging\n",
    "import torch\n",
    "from torch.optim import AdamW\n",
    "from ir_measures import nDCG, AP, P, R, RR\n",
    "from IRutils import models, train, inference\n",
    "from IRutils.load_data import load, preprocess\n",
    "\n",
    "#################### THINGS TO CHANGE FOR YOUR EXPERIMENTS ####################\n",
    "\n",
    "dataset_name = \"fiqa\"  # SELECT YOUR EXPERIMENT DATASET HERE\n",
    "model_name = \"distilroberta-base\"  # SELECT YOUR MODEL HERE\n",
    "\"\"\"\n",
    "Some options:\n",
    "DistilBERT: \"distilbert-base-uncased\" (66M params)\n",
    "BERT: \"bert-base-uncased\" (110M params) or \"bert-large-uncased\" (340M params)\n",
    "RoBERTa: \"roberta-base\" (125M params) or \"roberta-large\" (355M params)\n",
    "ALBERT: \"albert-base-v2\" (12M params) or \"albert-xxlarge-v2\" (235M params)\n",
    "ELECTRA: \"google/electra-small-generator\" (14M params) or \"google/electra-base-generator\" (110M params)\n",
    "DeBERTa: \"microsoft/deberta-base\" (140M params) or \"microsoft/deberta-v3-base\" (184M params)\n",
    "MPNet: \"microsoft/mpnet-base\" (110M params)\n",
    "XLM-RoBERTa: \"xlm-roberta-base\" (125M params) or \"xlm-roberta-large\" (355M params)\n",
    "T5: \"t5-small\" (60M params) or \"t5-base\" (220M params)\n",
    "BART: \"facebook/bart-base\" (140M params) or \"facebook/bart-large\" (406M params)\n",
    "LongFormer: \"allenai/longformer-base-4096\" (149M params)\n",
    "\n",
    "For the distilled/smaller variants that are closer to DistilBERT in size and speed:\n",
    "\n",
    "TinyBERT: \"huawei-noah/TinyBERT_General_4L_312D\" (15M params)\n",
    "MobileBERT: \"google/mobilebert-uncased\" (25M params)\n",
    "DistilRoBERTa: \"distilroberta-base\" (82M params)\n",
    "\"\"\"\n",
    "# Create dataset for a specific query length range (e.g., short queries)\n",
    "\"\"\"\n",
    "Options: \n",
    "short - 0-33 percentile (length)\n",
    "medium - 33-67 percentile (length)\n",
    "long - 67-100 percentile (length)\n",
    "full - all data (sampled to one third)\n",
    "\"\"\"\n",
    "length_setting = 'full'\n",
    "\n",
    "metrics = [nDCG@10, nDCG@100, AP@10, AP@100, P@10, R@10, P@100, R@100, RR]\n",
    "\n",
    "#################### THINGS TO CHANGE FOR YOUR EXPERIMENTS ####################\n",
    "\n",
    "logging.disable(logging.WARNING)\n",
    "\n",
    "max_len_doc = 512  # max token length\n",
    "random_state = 42"
   ]
  },
  {
   "cell_type": "code",
   "execution_count": 2,
   "outputs": [
    {
     "data": {
      "text/plain": "  0%|          | 0/57638 [00:00<?, ?it/s]",
      "application/vnd.jupyter.widget-view+json": {
       "version_major": 2,
       "version_minor": 0,
       "model_id": "dd64a142a97a489985ddd7910e2e8b19"
      }
     },
     "metadata": {},
     "output_type": "display_data"
    },
    {
     "data": {
      "text/plain": "  0%|          | 0/57638 [00:00<?, ?it/s]",
      "application/vnd.jupyter.widget-view+json": {
       "version_major": 2,
       "version_minor": 0,
       "model_id": "4d2ee48d64d6428f8fed2e201f2460a2"
      }
     },
     "metadata": {},
     "output_type": "display_data"
    },
    {
     "name": "stdout",
     "output_type": "stream",
     "text": [
      "Train and test set available!\n",
      "Loading complete!\n"
     ]
    }
   ],
   "source": [
    "train_available, docs, queries, qrels, docs_test, queries_test, qrels_test  = load(dataset_name)\n",
    "print('Loading complete!')"
   ],
   "metadata": {
    "collapsed": false,
    "ExecuteTime": {
     "end_time": "2025-03-29T19:17:46.825015400Z",
     "start_time": "2025-03-29T19:17:46.195492500Z"
    }
   },
   "id": "66d2c4809c9f3d5d"
  },
  {
   "cell_type": "code",
   "execution_count": 3,
   "outputs": [
    {
     "name": "stdout",
     "output_type": "stream",
     "text": [
      "Dataset size: 5500\n",
      "test size: 648\n",
      "Example query from full subset:\n",
      "('11104', 'Selling a stock for gain to offset other stock loss')\n",
      "Length of subset of full validation queries: 1100\n",
      "Length of subset of full training queries: 4399\n",
      "Length of subset of full queries: 5499\n",
      "Number of negatives in qrels: 0\n"
     ]
    },
    {
     "data": {
      "text/plain": "tokenizer_config.json:   0%|          | 0.00/25.0 [00:00<?, ?B/s]",
      "application/vnd.jupyter.widget-view+json": {
       "version_major": 2,
       "version_minor": 0,
       "model_id": "e19597f5acf94f7fa1fbeceb776a347e"
      }
     },
     "metadata": {},
     "output_type": "display_data"
    },
    {
     "name": "stderr",
     "output_type": "stream",
     "text": [
      "C:\\Users\\chena\\PycharmProjects\\IR-rankingmodels\\.venv\\Lib\\site-packages\\huggingface_hub\\file_download.py:142: UserWarning: `huggingface_hub` cache-system uses symlinks by default to efficiently store duplicated files but your machine does not support them in C:\\Users\\chena\\.cache\\huggingface\\hub\\models--distilroberta-base. Caching files will still work but in a degraded version that might require more space on your disk. This warning can be disabled by setting the `HF_HUB_DISABLE_SYMLINKS_WARNING` environment variable. For more details, see https://huggingface.co/docs/huggingface_hub/how-to-cache#limitations.\n",
      "To support symlinks on Windows, you either need to activate Developer Mode or to run Python as an administrator. In order to activate developer mode, see this article: https://docs.microsoft.com/en-us/windows/apps/get-started/enable-your-device-for-development\n",
      "  warnings.warn(message)\n"
     ]
    },
    {
     "data": {
      "text/plain": "config.json:   0%|          | 0.00/480 [00:00<?, ?B/s]",
      "application/vnd.jupyter.widget-view+json": {
       "version_major": 2,
       "version_minor": 0,
       "model_id": "98a43cd05c804d81a103cdcc261fb2ff"
      }
     },
     "metadata": {},
     "output_type": "display_data"
    },
    {
     "data": {
      "text/plain": "vocab.json:   0%|          | 0.00/899k [00:00<?, ?B/s]",
      "application/vnd.jupyter.widget-view+json": {
       "version_major": 2,
       "version_minor": 0,
       "model_id": "80fc4163b59c41fab7f9cb9f110cd0e8"
      }
     },
     "metadata": {},
     "output_type": "display_data"
    },
    {
     "data": {
      "text/plain": "merges.txt:   0%|          | 0.00/456k [00:00<?, ?B/s]",
      "application/vnd.jupyter.widget-view+json": {
       "version_major": 2,
       "version_minor": 0,
       "model_id": "f81fa46d590340349ee6a5292bdfbea1"
      }
     },
     "metadata": {},
     "output_type": "display_data"
    },
    {
     "data": {
      "text/plain": "tokenizer.json:   0%|          | 0.00/1.36M [00:00<?, ?B/s]",
      "application/vnd.jupyter.widget-view+json": {
       "version_major": 2,
       "version_minor": 0,
       "model_id": "796c878a11674f48b5d9fd005263644a"
      }
     },
     "metadata": {},
     "output_type": "display_data"
    },
    {
     "name": "stdout",
     "output_type": "stream",
     "text": [
      "Creating training dataset...\n"
     ]
    },
    {
     "name": "stderr",
     "output_type": "stream",
     "text": [
      "100%|██████████| 4399/4399 [00:11<00:00, 384.19it/s]\n"
     ]
    },
    {
     "name": "stdout",
     "output_type": "stream",
     "text": [
      "Creating validation dataset...\n"
     ]
    },
    {
     "name": "stderr",
     "output_type": "stream",
     "text": [
      "100%|██████████| 1100/1100 [00:03<00:00, 358.31it/s]\n"
     ]
    },
    {
     "name": "stdout",
     "output_type": "stream",
     "text": [
      "Creating testing dataset...\n"
     ]
    },
    {
     "name": "stderr",
     "output_type": "stream",
     "text": [
      "100%|██████████| 648/648 [00:01<00:00, 393.18it/s]"
     ]
    },
    {
     "name": "stdout",
     "output_type": "stream",
     "text": [
      "Preprocessing complete!\n"
     ]
    },
    {
     "name": "stderr",
     "output_type": "stream",
     "text": [
      "\n"
     ]
    }
   ],
   "source": [
    "if train_available:\n",
    "    train_loader, val_loader, test_loader, split_queries_test, split_qrels_test = preprocess(queries, docs, qrels, model_name, length_setting, train_available, \n",
    "                                                       queries_test=queries_test, docs_test=docs_test, qrels_test=qrels_test, \n",
    "                                                       max_len_doc=max_len_doc, random_state=random_state)\n",
    "else:\n",
    "    train_loader, val_loader, test_loader, split_queries_test, split_qrels_test = preprocess(queries, docs, qrels, model_name, length_setting, train_available, \n",
    "                                                       max_len_doc=max_len_doc, random_state=random_state)\n",
    "    \n",
    "print('Preprocessing complete!')"
   ],
   "metadata": {
    "collapsed": false,
    "ExecuteTime": {
     "end_time": "2025-03-29T19:18:05.626367800Z",
     "start_time": "2025-03-29T19:17:46.817396600Z"
    }
   },
   "id": "3768ba95be3af936"
  },
  {
   "cell_type": "markdown",
   "source": [
    "### Initialize model"
   ],
   "metadata": {
    "collapsed": false
   },
   "id": "33f7b31408fdfbf7"
  },
  {
   "cell_type": "code",
   "execution_count": 4,
   "outputs": [
    {
     "data": {
      "text/plain": "model.safetensors:   0%|          | 0.00/331M [00:00<?, ?B/s]",
      "application/vnd.jupyter.widget-view+json": {
       "version_major": 2,
       "version_minor": 0,
       "model_id": "b8882a689bed446c9e3a3beb83a2f8d8"
      }
     },
     "metadata": {},
     "output_type": "display_data"
    }
   ],
   "source": [
    "# Initialize model and optimizer\n",
    "device = torch.device(\"cuda\" if torch.cuda.is_available() else \"cpu\")\n",
    "model = models.TripletRankerModel(model_name).to(device)\n",
    "optimizer = AdamW(model.parameters(), lr=2e-5)\n",
    "\n",
    "# Define model save dir\n",
    "os.makedirs(f'models/{model_name}/{dataset_name}', exist_ok=True)\n",
    "model_path = os.path.join(os.getcwd(), f'models/{model_name}/{dataset_name}/{length_setting}_queries.pth')"
   ],
   "metadata": {
    "collapsed": false,
    "ExecuteTime": {
     "end_time": "2025-03-29T19:18:38.572068500Z",
     "start_time": "2025-03-29T19:18:05.627414500Z"
    }
   },
   "id": "90d4dda153d8d4a0"
  },
  {
   "cell_type": "markdown",
   "source": [
    "### Train model (load directly if already trained)"
   ],
   "metadata": {
    "collapsed": false
   },
   "id": "b346b91371f8ee56"
  },
  {
   "cell_type": "code",
   "execution_count": null,
   "outputs": [
    {
     "name": "stdout",
     "output_type": "stream",
     "text": [
      "C:\\Users\\chena\\PycharmProjects\\IR-rankingmodels\\models/distilroberta-base/fiqa/full_queries.pth\n"
     ]
    },
    {
     "data": {
      "text/plain": "Epoch 1/10 (Training):   0%|          | 0/27880 [00:00<?, ?it/s]",
      "application/vnd.jupyter.widget-view+json": {
       "version_major": 2,
       "version_minor": 0,
       "model_id": "9d16f3c5043349679311cbdebd3d599a"
      }
     },
     "metadata": {},
     "output_type": "display_data"
    }
   ],
   "source": [
    "print(model_path)\n",
    "if os.path.isfile(model_path):\n",
    "    model.load_state_dict(torch.load(model_path, map_location=device))\n",
    "else:\n",
    "    # Train the model\n",
    "    model = train.train_triplet_ranker(model, train_loader, val_loader, optimizer, device, model_path)"
   ],
   "metadata": {
    "collapsed": false,
    "is_executing": true,
    "ExecuteTime": {
     "start_time": "2025-03-29T19:18:38.573069600Z"
    }
   },
   "id": "61696e2993e57d70"
  },
  {
   "cell_type": "markdown",
   "source": [
    "## Run inference on test set"
   ],
   "metadata": {
    "collapsed": false
   },
   "id": "374c2aab9651bcba"
  },
  {
   "cell_type": "code",
   "execution_count": null,
   "outputs": [],
   "source": [
    "# Example usage (replace with your data and model)\n",
    "if train_available:\n",
    "    metric_scores = inference.evaluate(model, test_loader, device, qrels_test)\n",
    "else:\n",
    "    metric_scores = inference.evaluate(model, test_loader, device, split_qrels_test)\n",
    "\n",
    "for metric in metrics:\n",
    "    print(f'Metric {metric} score: {metric_scores[metric]:.4f}')"
   ],
   "metadata": {
    "collapsed": false,
    "is_executing": true
   },
   "id": "156e9f0f994a8821"
  },
  {
   "cell_type": "markdown",
   "source": [
    "## Write results to output"
   ],
   "metadata": {
    "collapsed": false
   },
   "id": "8e93bcfd6f67ceca"
  },
  {
   "cell_type": "code",
   "execution_count": null,
   "outputs": [],
   "source": [
    "save_dir = f\"results/{model_name}/{dataset_name}\"\n",
    "os.makedirs(save_dir, exist_ok=True)\n",
    "save_path = os.path.join(save_dir, f'{length_setting}_queries.txt')\n",
    "\n",
    "# Save results to a file\n",
    "with open(save_path, \"w\") as f:\n",
    "    f.write(f\"Evaluation Results for {model_name} model finetuned on {length_setting} queries from {dataset_name} dataset:\\n\")\n",
    "    f.write(f\"normalized Discounted Cumulative Gain@10: {metric_scores[nDCG@10]:.4f}\\n\")\n",
    "    f.write(f\"normalized Discounted Cumulative Gain@100: {metric_scores[nDCG@100]:.4f}\\n\")\n",
    "    f.write(f\"\\n\")\n",
    "    f.write(f\"[Mean] Average Precision@10: {metric_scores[AP@10]:.4f}\\n\")\n",
    "    f.write(f\"[Mean] Average Precision@100: {metric_scores[AP@100]:.4f}\\n\")\n",
    "    f.write(f\"\\n\")\n",
    "    f.write(f\"Precision@10: {metric_scores[P@10]:.4f}\\n\")\n",
    "    f.write(f\"Recall@10: {metric_scores[R@10]:.4f}\\n\")\n",
    "    f.write(f\"\\n\")\n",
    "    f.write(f\"Precision@100: {metric_scores[P@100]:.4f}\\n\")\n",
    "    f.write(f\"Recall@100: {metric_scores[R@100]:.4f}\\n\")\n",
    "    f.write(f\"\\n\")\n",
    "    f.write(f\"[Mean] Reciprocal Rank: {metric_scores[RR]:.4f}\\n\")\n",
    "    f.write(f\"\\n\")\n",
    "    f.write(f\"----------------------------------------------------\\n\")\n",
    "    f.write(f\"\\n\")\n",
    "    f.write(f\"Explanation of metrics:\\n\")\n",
    "    f.write(f\"NDCG@k (Normalized Discounted Cumulative Gain: Ranking Quality | Prioritizes highly relevant documents appearing earlier in the ranking.\\n\")\n",
    "    f.write(f\"MAP (Mean Average Precision): Overall Relevance | Measures ranking precision across all relevant documents. Best for small-scale retrieval tasks.\\n\")\n",
    "    f.write(f\"Precision@k: Relevance | Measures how many of the top-k documents are relevant. Works well in precision-sensitive applications.\\n\")\n",
    "    f.write(f\"Recall@k: Coverage | Measures how many relevant documents appear in the top-k results. Important in recall-sensitive tasks.\\n\")\n",
    "    f.write(f\"MRR (Mean Reciprocal Rank): Single Relevant Result | Focuses on ranking the first relevant document. Good for QA tasks.\\n\")\n",
    "    \n",
    "print(f'Successfully written results to {save_path}.')"
   ],
   "metadata": {
    "collapsed": false,
    "is_executing": true
   },
   "id": "44e782fd22fb4942"
  },
  {
   "cell_type": "code",
   "execution_count": null,
   "outputs": [],
   "source": [],
   "metadata": {
    "collapsed": false,
    "is_executing": true
   },
   "id": "e89d10cb4f728378"
  }
 ],
 "metadata": {
  "kernelspec": {
   "display_name": "Python 3",
   "language": "python",
   "name": "python3"
  },
  "language_info": {
   "codemirror_mode": {
    "name": "ipython",
    "version": 2
   },
   "file_extension": ".py",
   "mimetype": "text/x-python",
   "name": "python",
   "nbconvert_exporter": "python",
   "pygments_lexer": "ipython2",
   "version": "2.7.6"
  }
 },
 "nbformat": 4,
 "nbformat_minor": 5
}
