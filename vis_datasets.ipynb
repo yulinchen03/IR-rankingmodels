{
 "cells": [
  {
   "cell_type": "code",
   "execution_count": 4,
   "id": "initial_id",
   "metadata": {
    "collapsed": true,
    "ExecuteTime": {
     "end_time": "2025-03-16T15:15:23.262774100Z",
     "start_time": "2025-03-16T15:15:23.220876800Z"
    }
   },
   "outputs": [
    {
     "data": {
      "text/plain": "                         dataset  \\\n0                          50pct   \n1                        antique   \n2                        vaswani   \n3               msmarco_document   \n4             msmarcov2_document   \n..                           ...   \n763                 irds:neuclir   \n764               irds:neuclir/1   \n779                    irds:sara   \n780      trec-deep-learning-docs   \n781  trec-deep-learning-passages   \n\n                                                topics topics_lang  \\\n0                               [training, validation]          en   \n1                                        [train, test]          en   \n2                                                 True          en   \n3      [train, dev, test, test-2020, leaderboard-2020]          en   \n4       [train, dev1, dev2, valid1, valid2, trec_2021]          en   \n..                                                 ...         ...   \n763                                               None        None   \n764                                               None        None   \n779                                               True          en   \n780    [train, dev, test, test-2020, leaderboard-2020]          en   \n781  [train, dev, dev.small, eval, eval.small, test...          en   \n\n                                             qrels corpus corpus_lang  \\\n0                           [training, validation]   None        None   \n1                                    [train, test]   True          en   \n2                                             True   True          en   \n3                    [train, dev, test, test-2020]   True          en   \n4              [train, dev1, dev2, valid1, valid2]   None        None   \n..                                             ...    ...         ...   \n763                                           None   None        None   \n764                                           None   None        None   \n779                                           True   True          en   \n780                  [train, dev, test, test-2020]   True          en   \n781  [train, dev, test-2019, test-2020, dev.small]   True          en   \n\n          index                                           info_url  \n0    [ex2, ex3]                                               None  \n1          None  https://ciir.cs.umass.edu/downloads/Antique/re...  \n2          True  http://ir.dcs.gla.ac.uk/resources/test_collect...  \n3          True               https://microsoft.github.io/msmarco/  \n4          True  https://microsoft.github.io/msmarco/TREC-Deep-...  \n..          ...                                                ...  \n763        None               https://ir-datasets.com/neuclir.html  \n764        None     https://ir-datasets.com/neuclir.html#neuclir/1  \n779        None                  https://ir-datasets.com/sara.html  \n780        True               https://microsoft.github.io/msmarco/  \n781        True  https://microsoft.github.io/MSMARCO-Passage-Ra...  \n\n[452 rows x 8 columns]",
      "text/html": "<div>\n<style scoped>\n    .dataframe tbody tr th:only-of-type {\n        vertical-align: middle;\n    }\n\n    .dataframe tbody tr th {\n        vertical-align: top;\n    }\n\n    .dataframe thead th {\n        text-align: right;\n    }\n</style>\n<table border=\"1\" class=\"dataframe\">\n  <thead>\n    <tr style=\"text-align: right;\">\n      <th></th>\n      <th>dataset</th>\n      <th>topics</th>\n      <th>topics_lang</th>\n      <th>qrels</th>\n      <th>corpus</th>\n      <th>corpus_lang</th>\n      <th>index</th>\n      <th>info_url</th>\n    </tr>\n  </thead>\n  <tbody>\n    <tr>\n      <th>0</th>\n      <td>50pct</td>\n      <td>[training, validation]</td>\n      <td>en</td>\n      <td>[training, validation]</td>\n      <td>None</td>\n      <td>None</td>\n      <td>[ex2, ex3]</td>\n      <td>None</td>\n    </tr>\n    <tr>\n      <th>1</th>\n      <td>antique</td>\n      <td>[train, test]</td>\n      <td>en</td>\n      <td>[train, test]</td>\n      <td>True</td>\n      <td>en</td>\n      <td>None</td>\n      <td>https://ciir.cs.umass.edu/downloads/Antique/re...</td>\n    </tr>\n    <tr>\n      <th>2</th>\n      <td>vaswani</td>\n      <td>True</td>\n      <td>en</td>\n      <td>True</td>\n      <td>True</td>\n      <td>en</td>\n      <td>True</td>\n      <td>http://ir.dcs.gla.ac.uk/resources/test_collect...</td>\n    </tr>\n    <tr>\n      <th>3</th>\n      <td>msmarco_document</td>\n      <td>[train, dev, test, test-2020, leaderboard-2020]</td>\n      <td>en</td>\n      <td>[train, dev, test, test-2020]</td>\n      <td>True</td>\n      <td>en</td>\n      <td>True</td>\n      <td>https://microsoft.github.io/msmarco/</td>\n    </tr>\n    <tr>\n      <th>4</th>\n      <td>msmarcov2_document</td>\n      <td>[train, dev1, dev2, valid1, valid2, trec_2021]</td>\n      <td>en</td>\n      <td>[train, dev1, dev2, valid1, valid2]</td>\n      <td>None</td>\n      <td>None</td>\n      <td>True</td>\n      <td>https://microsoft.github.io/msmarco/TREC-Deep-...</td>\n    </tr>\n    <tr>\n      <th>...</th>\n      <td>...</td>\n      <td>...</td>\n      <td>...</td>\n      <td>...</td>\n      <td>...</td>\n      <td>...</td>\n      <td>...</td>\n      <td>...</td>\n    </tr>\n    <tr>\n      <th>763</th>\n      <td>irds:neuclir</td>\n      <td>None</td>\n      <td>None</td>\n      <td>None</td>\n      <td>None</td>\n      <td>None</td>\n      <td>None</td>\n      <td>https://ir-datasets.com/neuclir.html</td>\n    </tr>\n    <tr>\n      <th>764</th>\n      <td>irds:neuclir/1</td>\n      <td>None</td>\n      <td>None</td>\n      <td>None</td>\n      <td>None</td>\n      <td>None</td>\n      <td>None</td>\n      <td>https://ir-datasets.com/neuclir.html#neuclir/1</td>\n    </tr>\n    <tr>\n      <th>779</th>\n      <td>irds:sara</td>\n      <td>True</td>\n      <td>en</td>\n      <td>True</td>\n      <td>True</td>\n      <td>en</td>\n      <td>None</td>\n      <td>https://ir-datasets.com/sara.html</td>\n    </tr>\n    <tr>\n      <th>780</th>\n      <td>trec-deep-learning-docs</td>\n      <td>[train, dev, test, test-2020, leaderboard-2020]</td>\n      <td>en</td>\n      <td>[train, dev, test, test-2020]</td>\n      <td>True</td>\n      <td>en</td>\n      <td>True</td>\n      <td>https://microsoft.github.io/msmarco/</td>\n    </tr>\n    <tr>\n      <th>781</th>\n      <td>trec-deep-learning-passages</td>\n      <td>[train, dev, dev.small, eval, eval.small, test...</td>\n      <td>en</td>\n      <td>[train, dev, test-2019, test-2020, dev.small]</td>\n      <td>True</td>\n      <td>en</td>\n      <td>True</td>\n      <td>https://microsoft.github.io/MSMARCO-Passage-Ra...</td>\n    </tr>\n  </tbody>\n</table>\n<p>452 rows × 8 columns</p>\n</div>"
     },
     "execution_count": 4,
     "metadata": {},
     "output_type": "execute_result"
    }
   ],
   "source": [
    "import pyterrier as pt\n",
    "import os\n",
    "import pandas as pd\n",
    "import json\n",
    "os.environ[\"JAVA_HOME\"] = \"C:\\Program Files\\Java\\jdk-19\"\n",
    "\n",
    "pt.datasets.list_datasets()"
   ]
  },
  {
   "cell_type": "code",
   "execution_count": 5,
   "outputs": [
    {
     "data": {
      "text/plain": "   index      qid    docno  label\n0      0   300674  7067032      1\n1      1   125705  7067056      1\n2      4   174249  7067348      1\n3      5   320792  7067677      1\n4      6  1090270  7067796      1",
      "text/html": "<div>\n<style scoped>\n    .dataframe tbody tr th:only-of-type {\n        vertical-align: middle;\n    }\n\n    .dataframe tbody tr th {\n        vertical-align: top;\n    }\n\n    .dataframe thead th {\n        text-align: right;\n    }\n</style>\n<table border=\"1\" class=\"dataframe\">\n  <thead>\n    <tr style=\"text-align: right;\">\n      <th></th>\n      <th>index</th>\n      <th>qid</th>\n      <th>docno</th>\n      <th>label</th>\n    </tr>\n  </thead>\n  <tbody>\n    <tr>\n      <th>0</th>\n      <td>0</td>\n      <td>300674</td>\n      <td>7067032</td>\n      <td>1</td>\n    </tr>\n    <tr>\n      <th>1</th>\n      <td>1</td>\n      <td>125705</td>\n      <td>7067056</td>\n      <td>1</td>\n    </tr>\n    <tr>\n      <th>2</th>\n      <td>4</td>\n      <td>174249</td>\n      <td>7067348</td>\n      <td>1</td>\n    </tr>\n    <tr>\n      <th>3</th>\n      <td>5</td>\n      <td>320792</td>\n      <td>7067677</td>\n      <td>1</td>\n    </tr>\n    <tr>\n      <th>4</th>\n      <td>6</td>\n      <td>1090270</td>\n      <td>7067796</td>\n      <td>1</td>\n    </tr>\n  </tbody>\n</table>\n</div>"
     },
     "execution_count": 5,
     "metadata": {},
     "output_type": "execute_result"
    }
   ],
   "source": [
    "qrels = pd.read_csv('data/qrels/msmarco/train_qrels.csv')\n",
    "qrels.head()"
   ],
   "metadata": {
    "collapsed": false,
    "ExecuteTime": {
     "end_time": "2025-03-16T15:15:23.272884600Z",
     "start_time": "2025-03-16T15:15:23.261273900Z"
    }
   },
   "id": "3b1aa257f9a5a2"
  },
  {
   "cell_type": "code",
   "execution_count": 6,
   "outputs": [
    {
     "data": {
      "text/plain": "       qid                                              query  \\\n0  1086248       what causes a prickly itchy feeling all over   \n1   791140                                    what is respite   \n2   388588  how working parents can stay involved when the...   \n3  1094724                                  hypotenuse define   \n4    69506        can i reopen a closed bank account barclays   \n\n  query_length_category  \n0                  long  \n1                 short  \n2                  long  \n3                 short  \n4                  long  ",
      "text/html": "<div>\n<style scoped>\n    .dataframe tbody tr th:only-of-type {\n        vertical-align: middle;\n    }\n\n    .dataframe tbody tr th {\n        vertical-align: top;\n    }\n\n    .dataframe thead th {\n        text-align: right;\n    }\n</style>\n<table border=\"1\" class=\"dataframe\">\n  <thead>\n    <tr style=\"text-align: right;\">\n      <th></th>\n      <th>qid</th>\n      <th>query</th>\n      <th>query_length_category</th>\n    </tr>\n  </thead>\n  <tbody>\n    <tr>\n      <th>0</th>\n      <td>1086248</td>\n      <td>what causes a prickly itchy feeling all over</td>\n      <td>long</td>\n    </tr>\n    <tr>\n      <th>1</th>\n      <td>791140</td>\n      <td>what is respite</td>\n      <td>short</td>\n    </tr>\n    <tr>\n      <th>2</th>\n      <td>388588</td>\n      <td>how working parents can stay involved when the...</td>\n      <td>long</td>\n    </tr>\n    <tr>\n      <th>3</th>\n      <td>1094724</td>\n      <td>hypotenuse define</td>\n      <td>short</td>\n    </tr>\n    <tr>\n      <th>4</th>\n      <td>69506</td>\n      <td>can i reopen a closed bank account barclays</td>\n      <td>long</td>\n    </tr>\n  </tbody>\n</table>\n</div>"
     },
     "execution_count": 6,
     "metadata": {},
     "output_type": "execute_result"
    }
   ],
   "source": [
    "queries = pd.read_csv('data/topics/msmarco/train_topics.csv')\n",
    "queries.head()"
   ],
   "metadata": {
    "collapsed": false,
    "ExecuteTime": {
     "end_time": "2025-03-16T15:15:23.288498800Z",
     "start_time": "2025-03-16T15:15:23.270386200Z"
    }
   },
   "id": "94568bc8fa176274"
  },
  {
   "cell_type": "code",
   "execution_count": 7,
   "outputs": [
    {
     "name": "stdout",
     "output_type": "stream",
     "text": [
      "{\n",
      "  \"index_variant\": \"terrier_stemmed\",\n",
      "  \"train_size\": 4467,\n",
      "  \"val_size\": 1117,\n",
      "  \"test_size\": 1396,\n",
      "  \"short_queries\": 1336,\n",
      "  \"medium_queries\": 2121,\n",
      "  \"long_queries\": 1010\n",
      "}\n"
     ]
    }
   ],
   "source": [
    "metadata = open(\"data/msmarco_metadata.json\")\n",
    "loaded_json = json.load(metadata)\n",
    "\n",
    "print(json.dumps(loaded_json, indent=2))"
   ],
   "metadata": {
    "collapsed": false,
    "ExecuteTime": {
     "end_time": "2025-03-16T15:15:23.310002100Z",
     "start_time": "2025-03-16T15:15:23.282773100Z"
    }
   },
   "id": "694ce6862fd3fe6"
  }
 ],
 "metadata": {
  "kernelspec": {
   "display_name": "Python 3",
   "language": "python",
   "name": "python3"
  },
  "language_info": {
   "codemirror_mode": {
    "name": "ipython",
    "version": 2
   },
   "file_extension": ".py",
   "mimetype": "text/x-python",
   "name": "python",
   "nbconvert_exporter": "python",
   "pygments_lexer": "ipython2",
   "version": "2.7.6"
  }
 },
 "nbformat": 4,
 "nbformat_minor": 5
}
