{
 "cells": [
  {
   "cell_type": "markdown",
   "source": [
    "## Getting started (Adjust settings to your experiment's needs)"
   ],
   "metadata": {
    "collapsed": false
   },
   "id": "317b36640a1a5743"
  },
  {
   "cell_type": "code",
   "execution_count": 1,
   "id": "initial_id",
   "metadata": {
    "collapsed": true,
    "ExecuteTime": {
     "end_time": "2025-03-29T20:08:40.610483300Z",
     "start_time": "2025-03-29T20:08:33.862921300Z"
    }
   },
   "outputs": [],
   "source": [
    "import os\n",
    "import logging\n",
    "import torch\n",
    "from torch.optim import AdamW\n",
    "from ir_measures import nDCG, AP, P, R, RR\n",
    "from IRutils import models, train, inference\n",
    "from IRutils.load_data import load, preprocess\n",
    "\n",
    "#################### THINGS TO CHANGE FOR YOUR EXPERIMENTS ####################\n",
    "\n",
    "dataset_name = \"microsoft/MiniLM-L12-H384-uncased\"  # SELECT YOUR EXPERIMENT DATASET HERE\n",
    "model_name = \"huawei-noah/TinyBERT_General_4L_312D\"  # SELECT YOUR MODEL HERE\n",
    "\"\"\"\n",
    "Some options:\n",
    "DistilBERT: \"distilbert-base-uncased\" (66M params)\n",
    "BERT: \"bert-base-uncased\" (110M params) or \"bert-large-uncased\" (340M params)\n",
    "RoBERTa: \"roberta-base\" (125M params) or \"roberta-large\" (355M params)\n",
    "ALBERT: \"albert-base-v2\" (12M params) or \"albert-xxlarge-v2\" (235M params)\n",
    "ELECTRA: \"google/electra-small-generator\" (14M params) or \"google/electra-base-generator\" (110M params)\n",
    "DeBERTa: \"microsoft/deberta-base\" (140M params) or \"microsoft/deberta-v3-base\" (184M params)\n",
    "MPNet: \"microsoft/mpnet-base\" (110M params)\n",
    "XLM-RoBERTa: \"xlm-roberta-base\" (125M params) or \"xlm-roberta-large\" (355M params)\n",
    "T5: \"t5-small\" (60M params) or \"t5-base\" (220M params)\n",
    "BART: \"facebook/bart-base\" (140M params) or \"facebook/bart-large\" (406M params)\n",
    "LongFormer: \"allenai/longformer-base-4096\" (149M params)\n",
    "\n",
    "For the distilled/smaller variants that are closer to DistilBERT in size and speed:\n",
    "\n",
    "TinyBERT: \"huawei-noah/TinyBERT_General_4L_312D\" (15M params)\n",
    "MobileBERT: \"google/mobilebert-uncased\" (25M params)\n",
    "DistilRoBERTa: \"distilroberta-base\" (82M params)\n",
    "\"\"\"\n",
    "# Create dataset for a specific query length range (e.g., short queries)\n",
    "\"\"\"\n",
    "Options: \n",
    "short - 0-33 percentile (length)\n",
    "medium - 33-67 percentile (length)\n",
    "long - 67-100 percentile (length)\n",
    "full - all data (sampled to one third)\n",
    "\"\"\"\n",
    "length_setting = 'full'\n",
    "\n",
    "metrics = [\n",
    "    nDCG @ 3, nDCG @ 5, nDCG @ 10, # Added nDCG@3\n",
    "    RR,\n",
    "    P @ 1, P @ 3, P @ 5,\n",
    "    R @ 1, R @ 3, R @ 5, R @ 10    # Added R@1, R@3\n",
    "]\n",
    "\n",
    "#################### THINGS TO CHANGE FOR YOUR EXPERIMENTS ####################\n",
    "\n",
    "logging.disable(logging.WARNING)\n",
    "\n",
    "max_len_doc = 512  # max token length\n",
    "random_state = 42"
   ]
  },
  {
   "cell_type": "code",
   "execution_count": 2,
   "outputs": [
    {
     "data": {
      "text/plain": "  0%|          | 0/57638 [00:00<?, ?it/s]",
      "application/vnd.jupyter.widget-view+json": {
       "version_major": 2,
       "version_minor": 0,
       "model_id": "a5dbd4678b914a048cc8988a51ef0127"
      }
     },
     "metadata": {},
     "output_type": "display_data"
    },
    {
     "data": {
      "text/plain": "  0%|          | 0/57638 [00:00<?, ?it/s]",
      "application/vnd.jupyter.widget-view+json": {
       "version_major": 2,
       "version_minor": 0,
       "model_id": "bc75573a0ef2494a8ef8bb65377a345f"
      }
     },
     "metadata": {},
     "output_type": "display_data"
    },
    {
     "name": "stdout",
     "output_type": "stream",
     "text": [
      "Train and test set available!\n",
      "Loading complete!\n"
     ]
    }
   ],
   "source": [
    "train_available, docs, queries, qrels, docs_test, queries_test, qrels_test  = load(dataset_name)\n",
    "print('Loading complete!')"
   ],
   "metadata": {
    "collapsed": false,
    "ExecuteTime": {
     "end_time": "2025-03-29T20:08:41.237273900Z",
     "start_time": "2025-03-29T20:08:40.611486600Z"
    }
   },
   "id": "66d2c4809c9f3d5d"
  },
  {
   "cell_type": "code",
   "execution_count": 3,
   "outputs": [
    {
     "name": "stdout",
     "output_type": "stream",
     "text": [
      "Dataset size: 5500\n",
      "test size: 648\n",
      "Example query from full subset:\n",
      "('11104', 'Selling a stock for gain to offset other stock loss')\n",
      "Length of subset of full validation queries: 1100\n",
      "Length of subset of full training queries: 4399\n",
      "Length of subset of full queries: 5499\n",
      "Number of negatives in qrels: 0\n",
      "Creating training dataset...\n"
     ]
    },
    {
     "name": "stderr",
     "output_type": "stream",
     "text": [
      "100%|██████████| 4399/4399 [00:11<00:00, 391.21it/s]\n"
     ]
    },
    {
     "name": "stdout",
     "output_type": "stream",
     "text": [
      "Creating validation dataset...\n"
     ]
    },
    {
     "name": "stderr",
     "output_type": "stream",
     "text": [
      "100%|██████████| 1100/1100 [00:02<00:00, 374.18it/s]\n"
     ]
    },
    {
     "name": "stdout",
     "output_type": "stream",
     "text": [
      "Creating testing dataset...\n"
     ]
    },
    {
     "name": "stderr",
     "output_type": "stream",
     "text": [
      "100%|██████████| 648/648 [00:01<00:00, 379.37it/s]"
     ]
    },
    {
     "name": "stdout",
     "output_type": "stream",
     "text": [
      "Preprocessing complete!\n"
     ]
    },
    {
     "name": "stderr",
     "output_type": "stream",
     "text": [
      "\n"
     ]
    }
   ],
   "source": [
    "if train_available:\n",
    "    train_loader, val_loader, test_loader, split_queries_test, split_qrels_test = preprocess(queries, docs, qrels, model_name, length_setting, train_available, \n",
    "                                                       queries_test=queries_test, docs_test=docs_test, qrels_test=qrels_test, \n",
    "                                                       max_len_doc=max_len_doc, random_state=random_state)\n",
    "else:\n",
    "    train_loader, val_loader, test_loader, split_queries_test, split_qrels_test = preprocess(queries, docs, qrels, model_name, length_setting, train_available, \n",
    "                                                       max_len_doc=max_len_doc, random_state=random_state)\n",
    "    \n",
    "print('Preprocessing complete!')"
   ],
   "metadata": {
    "collapsed": false,
    "ExecuteTime": {
     "end_time": "2025-03-29T20:08:57.689604700Z",
     "start_time": "2025-03-29T20:08:41.237273900Z"
    }
   },
   "id": "3768ba95be3af936"
  },
  {
   "cell_type": "markdown",
   "source": [
    "### Initialize model"
   ],
   "metadata": {
    "collapsed": false
   },
   "id": "33f7b31408fdfbf7"
  },
  {
   "cell_type": "code",
   "execution_count": 4,
   "outputs": [],
   "source": [
    "# Initialize model and optimizer\n",
    "device = torch.device(\"cuda\" if torch.cuda.is_available() else \"cpu\")\n",
    "model = models.TripletRankerModel(model_name).to(device)\n",
    "optimizer = AdamW(model.parameters(), lr=2e-5)\n",
    "\n",
    "# Define model save dir\n",
    "os.makedirs(f'models/{model_name}/{dataset_name}', exist_ok=True)\n",
    "model_path = os.path.join(os.getcwd(), f'models/{model_name}/{dataset_name}/{length_setting}_queries.pth')"
   ],
   "metadata": {
    "collapsed": false,
    "ExecuteTime": {
     "end_time": "2025-03-29T20:08:58.983764100Z",
     "start_time": "2025-03-29T20:08:57.687146Z"
    }
   },
   "id": "90d4dda153d8d4a0"
  },
  {
   "cell_type": "markdown",
   "source": [
    "### Train model (load directly if already trained)"
   ],
   "metadata": {
    "collapsed": false
   },
   "id": "b346b91371f8ee56"
  },
  {
   "cell_type": "code",
   "execution_count": null,
   "outputs": [
    {
     "name": "stdout",
     "output_type": "stream",
     "text": [
      "C:\\Users\\chena\\PycharmProjects\\IR-rankingmodels\\models/huawei-noah/TinyBERT_General_4L_312D/fiqa/full_queries.pth\n"
     ]
    },
    {
     "data": {
      "text/plain": "Epoch 1/10 (Training):   0%|          | 0/27880 [00:00<?, ?it/s]",
      "application/vnd.jupyter.widget-view+json": {
       "version_major": 2,
       "version_minor": 0,
       "model_id": "a327038bee44479981833272e3f88a0a"
      }
     },
     "metadata": {},
     "output_type": "display_data"
    },
    {
     "name": "stdout",
     "output_type": "stream",
     "text": [
      "Epoch 1/10, Average Training Loss: 0.4634\n"
     ]
    },
    {
     "name": "stderr",
     "output_type": "stream",
     "text": [
      "Validation: 100%|██████████| 7533/7533 [05:55<00:00, 21.21it/s]\n"
     ]
    },
    {
     "name": "stdout",
     "output_type": "stream",
     "text": [
      "Validation Loss: 0.3679\n",
      "Validation loss improved. Saving model.\n"
     ]
    },
    {
     "data": {
      "text/plain": "Epoch 2/10 (Training):   0%|          | 0/27880 [00:00<?, ?it/s]",
      "application/vnd.jupyter.widget-view+json": {
       "version_major": 2,
       "version_minor": 0,
       "model_id": "8cebabc6dfcd4c61ac34ed03f50e48ed"
      }
     },
     "metadata": {},
     "output_type": "display_data"
    }
   ],
   "source": [
    "print(model_path)\n",
    "if os.path.isfile(model_path):\n",
    "    model.load_state_dict(torch.load(model_path, map_location=device))\n",
    "else:\n",
    "    # Train the model\n",
    "    model = train.train_triplet_ranker(model, train_loader, val_loader, optimizer, device, model_path)"
   ],
   "metadata": {
    "collapsed": false,
    "is_executing": true,
    "ExecuteTime": {
     "start_time": "2025-03-29T20:08:58.985764200Z"
    }
   },
   "id": "61696e2993e57d70"
  },
  {
   "cell_type": "markdown",
   "source": [
    "## Run inference on test set (Optional)"
   ],
   "metadata": {
    "collapsed": false
   },
   "id": "374c2aab9651bcba"
  },
  {
   "cell_type": "code",
   "execution_count": null,
   "outputs": [],
   "source": [
    "# Example usage (replace with your data and model)\n",
    "if train_available:\n",
    "    metric_scores = inference.evaluate(model, test_loader, device, qrels_test)\n",
    "else:\n",
    "    metric_scores = inference.evaluate(model, test_loader, device, split_qrels_test)\n",
    "\n",
    "for metric in metrics:\n",
    "    print(f'Metric {metric} score: {metric_scores[metric]:.4f}')"
   ],
   "metadata": {
    "collapsed": false,
    "is_executing": true
   },
   "id": "156e9f0f994a8821"
  },
  {
   "cell_type": "markdown",
   "source": [
    "## Write results to output"
   ],
   "metadata": {
    "collapsed": false
   },
   "id": "8e93bcfd6f67ceca"
  },
  {
   "cell_type": "code",
   "execution_count": null,
   "outputs": [],
   "source": [
    "save_dir = f\"results/{model_name}/{dataset_name}\"\n",
    "os.makedirs(save_dir, exist_ok=True)\n",
    "save_path = os.path.join(save_dir, f'{length_setting}_queries.txt')\n",
    "\n",
    "inference.write_results(metric_scores, save_path, model_name, dataset_name, length_setting)"
   ],
   "metadata": {
    "collapsed": false,
    "is_executing": true
   },
   "id": "e89d10cb4f728378"
  }
 ],
 "metadata": {
  "kernelspec": {
   "display_name": "Python 3",
   "language": "python",
   "name": "python3"
  },
  "language_info": {
   "codemirror_mode": {
    "name": "ipython",
    "version": 2
   },
   "file_extension": ".py",
   "mimetype": "text/x-python",
   "name": "python",
   "nbconvert_exporter": "python",
   "pygments_lexer": "ipython2",
   "version": "2.7.6"
  }
 },
 "nbformat": 4,
 "nbformat_minor": 5
}
