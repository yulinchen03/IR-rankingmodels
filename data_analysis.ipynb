{
 "cells": [
  {
   "metadata": {},
   "cell_type": "markdown",
   "source": [
    "# Query Length Analysis Across BEIR Datasets\n",
    "\n",
    "In this notebook, we analyze and compare query length distributions across multiple BEIR datasets. The goal is to:\n",
    "- Compute descriptive statistics (mean, median, percentiles) for query lengths.\n",
    "- Visualize distributions (histograms, box plots, density plots) for each dataset.\n",
    "- Compare differences across datasets, particularly noting that scientific datasets tend to have longer queries.\n",
    "- Define appropriate thresholds for short, medium, and long queries, which will inform subsequent experiments.\n",
    "All outputs (plots and statistics) are saved in the `data_analysis_results` folder for future reference.\n"
   ],
   "id": "af6b9998a50db37c"
  },
  {
   "metadata": {
    "ExecuteTime": {
     "end_time": "2025-03-27T21:29:21.919945Z",
     "start_time": "2025-03-27T21:29:21.914264Z"
    }
   },
   "cell_type": "code",
   "source": [
    "### DATASETS\n",
    "datasets = {\n",
    "    'msmarco': ['train', 'dev'],\n",
    "    'hotpotqa': ['train', 'dev', 'test'],\n",
    "    'arguana': ['test'],\n",
    "    'quora': ['dev', 'test'],\n",
    "    'scidocs': ['test'],\n",
    "    'fever': ['train', 'dev', 'test'],\n",
    "    'climate-fever': ['test'],\n",
    "    'scifact': ['train', 'test'],\n",
    "    'fiqa': ['train', 'dev', 'test'],\n",
    "    'nfcorpus': ['train', 'dev', 'test']\n",
    "}\n",
    "\n",
    "### RESULTS FOLDER\n",
    "results_folder = \"data_analysis_results\""
   ],
   "id": "f9e84929b2fc9ac4",
   "outputs": [],
   "execution_count": 1
  },
  {
   "metadata": {
    "ExecuteTime": {
     "end_time": "2025-03-27T21:29:22.229072Z",
     "start_time": "2025-03-27T21:29:21.923149Z"
    }
   },
   "cell_type": "code",
   "source": [
    "import os\n",
    "import matplotlib.pyplot as plt\n",
    "\n",
    "plt.ioff()\n",
    "\n",
    "# Ensure that the results folder exists\n",
    "def ensure_folder_exists(folder):\n",
    "    if not os.path.exists(folder):\n",
    "        os.makedirs(folder)\n",
    "    return folder\n",
    "\n",
    "# Create a folder for analysis results\n",
    "results_folder = ensure_folder_exists(results_folder)\n",
    "print(\"Results folder:\", results_folder)"
   ],
   "id": "46e7f36f3cc57b46",
   "outputs": [
    {
     "name": "stdout",
     "output_type": "stream",
     "text": [
      "Results folder: data_analysis_results\n"
     ]
    }
   ],
   "execution_count": 2
  },
  {
   "metadata": {
    "ExecuteTime": {
     "end_time": "2025-03-27T21:29:24.147793Z",
     "start_time": "2025-03-27T21:29:22.329517Z"
    }
   },
   "cell_type": "code",
   "source": [
    "from IRutils.analysis_util import QueryLengthAnalyzer\n",
    "\n",
    "def analyze_and_save(dataset_name, split=\"test\", results_folder=\"data_analysis_results\") -> QueryLengthAnalyzer:\n",
    "    \"\"\"\n",
    "    Loads a BEIR dataset, computes query length analysis,\n",
    "    saves plots and statistics, and returns analyzer instance.\n",
    "    :param dataset_name: dataset name\n",
    "    :param split: split to analyze\n",
    "    :param results_folder: result directory to save plots and statistics\n",
    "    :return: a QueryLengthAnalyzer instance\n",
    "    \"\"\"\n",
    "\n",
    "    dataset_folder = ensure_folder_exists(os.path.join(results_folder, dataset_name))\n",
    "\n",
    "    # initialize the analyzer (contains the dowload and processing of dataset)\n",
    "    analyzer = QueryLengthAnalyzer(dataset_name=dataset_name, split=split)\n",
    "\n",
    "    # save stats to a text file\n",
    "    stats_file = os.path.join(dataset_folder, f\"{dataset_name}_stats.txt\")\n",
    "    with open(stats_file, \"w\") as f:\n",
    "        f.write(f\"Query Length Statistics for {dataset_name} (split {split})\\n\")\n",
    "        for key, value in analyzer.stats.items():\n",
    "            f.write(f\"{key}: {value}\\n\")\n",
    "    print(f\"Statistics saved for {dataset_name} (split {split}) in {stats_file}\")\n",
    "\n",
    "    # save histogram plot\n",
    "    histogram_file = os.path.join(dataset_folder, f\"{dataset_name}_histogram.png\")\n",
    "    analyzer.plot_histogram(show=False, save_path=histogram_file)\n",
    "    print(f\"Histogram saved for {dataset_name} (split {split}) in {histogram_file}\")\n",
    "\n",
    "\n",
    "    # save box plot\n",
    "    boxplot_file = os.path.join(dataset_folder, f\"{dataset_name}_boxplot.png\")\n",
    "    analyzer.plot_boxplot(show=False, save_path=boxplot_file)\n",
    "    print(f\"Boxplot saved for {dataset_name} (split {split}) in {boxplot_file}\")\n",
    "\n",
    "    return analyzer\n"
   ],
   "id": "3b1c2c462f143640",
   "outputs": [
    {
     "name": "stderr",
     "output_type": "stream",
     "text": [
      "/Users/serkanakin/.pyenv/versions/ir-ranking-env/lib/python3.11/site-packages/beir/datasets/data_loader.py:8: TqdmExperimentalWarning: Using `tqdm.autonotebook.tqdm` in notebook mode. Use `tqdm.tqdm` instead to force console mode (e.g. in jupyter console)\n",
      "  from tqdm.autonotebook import tqdm\n"
     ]
    }
   ],
   "execution_count": 3
  },
  {
   "metadata": {
    "ExecuteTime": {
     "end_time": "2025-03-27T21:29:24.154514Z",
     "start_time": "2025-03-27T21:29:24.152518Z"
    }
   },
   "cell_type": "code",
   "source": [
    "# using test split for analysis\n",
    "dataset_names = list(datasets.keys())\n",
    "print(\"Datasets to analyze:\", dataset_names)\n"
   ],
   "id": "a2de3c37df8355d9",
   "outputs": [
    {
     "name": "stdout",
     "output_type": "stream",
     "text": [
      "Datasets to analyze: ['msmarco', 'hotpotqa', 'arguana', 'quora', 'scidocs', 'fever', 'climate-fever', 'scifact', 'fiqa', 'nfcorpus']\n"
     ]
    }
   ],
   "execution_count": 4
  },
  {
   "metadata": {
    "ExecuteTime": {
     "end_time": "2025-03-27T21:30:54.899778Z",
     "start_time": "2025-03-27T21:29:24.159020Z"
    }
   },
   "cell_type": "code",
   "source": [
    "analyzers = {}\n",
    "\n",
    "for name in dataset_names:\n",
    "    analyzers[name] = analyze_and_save(dataset_name=name, split=\"test\", results_folder=results_folder)"
   ],
   "id": "9ffeb36d541778bc",
   "outputs": [
    {
     "data": {
      "text/plain": [
       "  0%|          | 0/8841823 [00:00<?, ?it/s]"
      ],
      "application/vnd.jupyter.widget-view+json": {
       "version_major": 2,
       "version_minor": 0,
       "model_id": "1e532ccf19834440976e859b135a9381"
      }
     },
     "metadata": {},
     "output_type": "display_data"
    },
    {
     "name": "stdout",
     "output_type": "stream",
     "text": [
      "Statistics saved for msmarco (split test) in data_analysis_results/msmarco/msmarco_stats.txt\n",
      "Histogram saved for msmarco (split test) in data_analysis_results/msmarco/msmarco_histogram.png\n",
      "Boxplot saved for msmarco (split test) in data_analysis_results/msmarco/msmarco_boxplot.png\n"
     ]
    },
    {
     "data": {
      "text/plain": [
       "  0%|          | 0/5233329 [00:00<?, ?it/s]"
      ],
      "application/vnd.jupyter.widget-view+json": {
       "version_major": 2,
       "version_minor": 0,
       "model_id": "82608b2940eb43bfb09bc26c56116885"
      }
     },
     "metadata": {},
     "output_type": "display_data"
    },
    {
     "name": "stdout",
     "output_type": "stream",
     "text": [
      "Statistics saved for hotpotqa (split test) in data_analysis_results/hotpotqa/hotpotqa_stats.txt\n",
      "Histogram saved for hotpotqa (split test) in data_analysis_results/hotpotqa/hotpotqa_histogram.png\n",
      "Boxplot saved for hotpotqa (split test) in data_analysis_results/hotpotqa/hotpotqa_boxplot.png\n"
     ]
    },
    {
     "data": {
      "text/plain": [
       "  0%|          | 0/8674 [00:00<?, ?it/s]"
      ],
      "application/vnd.jupyter.widget-view+json": {
       "version_major": 2,
       "version_minor": 0,
       "model_id": "bcbc4b4871f64ddfa47c187b3fe09769"
      }
     },
     "metadata": {},
     "output_type": "display_data"
    },
    {
     "name": "stdout",
     "output_type": "stream",
     "text": [
      "Statistics saved for arguana (split test) in data_analysis_results/arguana/arguana_stats.txt\n",
      "Histogram saved for arguana (split test) in data_analysis_results/arguana/arguana_histogram.png\n",
      "Boxplot saved for arguana (split test) in data_analysis_results/arguana/arguana_boxplot.png\n"
     ]
    },
    {
     "data": {
      "text/plain": [
       "  0%|          | 0/522931 [00:00<?, ?it/s]"
      ],
      "application/vnd.jupyter.widget-view+json": {
       "version_major": 2,
       "version_minor": 0,
       "model_id": "d25bddc3bfc94fc4bee6c523795df790"
      }
     },
     "metadata": {},
     "output_type": "display_data"
    },
    {
     "name": "stdout",
     "output_type": "stream",
     "text": [
      "Statistics saved for quora (split test) in data_analysis_results/quora/quora_stats.txt\n",
      "Histogram saved for quora (split test) in data_analysis_results/quora/quora_histogram.png\n",
      "Boxplot saved for quora (split test) in data_analysis_results/quora/quora_boxplot.png\n"
     ]
    },
    {
     "data": {
      "text/plain": [
       "  0%|          | 0/25657 [00:00<?, ?it/s]"
      ],
      "application/vnd.jupyter.widget-view+json": {
       "version_major": 2,
       "version_minor": 0,
       "model_id": "f4ff5ef558eb4c03a78831be57941148"
      }
     },
     "metadata": {},
     "output_type": "display_data"
    },
    {
     "name": "stdout",
     "output_type": "stream",
     "text": [
      "Statistics saved for scidocs (split test) in data_analysis_results/scidocs/scidocs_stats.txt\n",
      "Histogram saved for scidocs (split test) in data_analysis_results/scidocs/scidocs_histogram.png\n",
      "Boxplot saved for scidocs (split test) in data_analysis_results/scidocs/scidocs_boxplot.png\n"
     ]
    },
    {
     "data": {
      "text/plain": [
       "  0%|          | 0/5416568 [00:00<?, ?it/s]"
      ],
      "application/vnd.jupyter.widget-view+json": {
       "version_major": 2,
       "version_minor": 0,
       "model_id": "9004ab35010b43c89fdf24edc9470c27"
      }
     },
     "metadata": {},
     "output_type": "display_data"
    },
    {
     "name": "stdout",
     "output_type": "stream",
     "text": [
      "Statistics saved for fever (split test) in data_analysis_results/fever/fever_stats.txt\n",
      "Histogram saved for fever (split test) in data_analysis_results/fever/fever_histogram.png\n",
      "Boxplot saved for fever (split test) in data_analysis_results/fever/fever_boxplot.png\n"
     ]
    },
    {
     "data": {
      "text/plain": [
       "  0%|          | 0/5416593 [00:00<?, ?it/s]"
      ],
      "application/vnd.jupyter.widget-view+json": {
       "version_major": 2,
       "version_minor": 0,
       "model_id": "ef98768da1ce4b1998f4da8db3a71989"
      }
     },
     "metadata": {},
     "output_type": "display_data"
    },
    {
     "name": "stdout",
     "output_type": "stream",
     "text": [
      "Statistics saved for climate-fever (split test) in data_analysis_results/climate-fever/climate-fever_stats.txt\n",
      "Histogram saved for climate-fever (split test) in data_analysis_results/climate-fever/climate-fever_histogram.png\n",
      "Boxplot saved for climate-fever (split test) in data_analysis_results/climate-fever/climate-fever_boxplot.png\n"
     ]
    },
    {
     "data": {
      "text/plain": [
       "  0%|          | 0/5183 [00:00<?, ?it/s]"
      ],
      "application/vnd.jupyter.widget-view+json": {
       "version_major": 2,
       "version_minor": 0,
       "model_id": "9007051d35c342d5880fe431bfb00d8c"
      }
     },
     "metadata": {},
     "output_type": "display_data"
    },
    {
     "name": "stdout",
     "output_type": "stream",
     "text": [
      "Statistics saved for scifact (split test) in data_analysis_results/scifact/scifact_stats.txt\n",
      "Histogram saved for scifact (split test) in data_analysis_results/scifact/scifact_histogram.png\n",
      "Boxplot saved for scifact (split test) in data_analysis_results/scifact/scifact_boxplot.png\n"
     ]
    },
    {
     "data": {
      "text/plain": [
       "  0%|          | 0/57638 [00:00<?, ?it/s]"
      ],
      "application/vnd.jupyter.widget-view+json": {
       "version_major": 2,
       "version_minor": 0,
       "model_id": "34171f3b4f4c4539b98391fe5e3f639d"
      }
     },
     "metadata": {},
     "output_type": "display_data"
    },
    {
     "name": "stdout",
     "output_type": "stream",
     "text": [
      "Statistics saved for fiqa (split test) in data_analysis_results/fiqa/fiqa_stats.txt\n",
      "Histogram saved for fiqa (split test) in data_analysis_results/fiqa/fiqa_histogram.png\n",
      "Boxplot saved for fiqa (split test) in data_analysis_results/fiqa/fiqa_boxplot.png\n"
     ]
    },
    {
     "data": {
      "text/plain": [
       "  0%|          | 0/3633 [00:00<?, ?it/s]"
      ],
      "application/vnd.jupyter.widget-view+json": {
       "version_major": 2,
       "version_minor": 0,
       "model_id": "e2f691d26c9b4dfcb42c1d9203979587"
      }
     },
     "metadata": {},
     "output_type": "display_data"
    },
    {
     "name": "stdout",
     "output_type": "stream",
     "text": [
      "Statistics saved for nfcorpus (split test) in data_analysis_results/nfcorpus/nfcorpus_stats.txt\n",
      "Histogram saved for nfcorpus (split test) in data_analysis_results/nfcorpus/nfcorpus_histogram.png\n",
      "Boxplot saved for nfcorpus (split test) in data_analysis_results/nfcorpus/nfcorpus_boxplot.png\n"
     ]
    }
   ],
   "execution_count": 5
  },
  {
   "metadata": {
    "ExecuteTime": {
     "end_time": "2025-03-27T21:30:55.631274Z",
     "start_time": "2025-03-27T21:30:55.629912Z"
    }
   },
   "cell_type": "code",
   "source": [],
   "id": "1be49e1f4e2baf92",
   "outputs": [],
   "execution_count": null
  }
 ],
 "metadata": {
  "kernelspec": {
   "display_name": "Python 3",
   "language": "python",
   "name": "python3"
  },
  "language_info": {
   "codemirror_mode": {
    "name": "ipython",
    "version": 2
   },
   "file_extension": ".py",
   "mimetype": "text/x-python",
   "name": "python",
   "nbconvert_exporter": "python",
   "pygments_lexer": "ipython2",
   "version": "2.7.6"
  }
 },
 "nbformat": 4,
 "nbformat_minor": 5
}
