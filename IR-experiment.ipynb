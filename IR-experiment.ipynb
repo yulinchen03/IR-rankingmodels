{
 "cells": [
  {
   "cell_type": "markdown",
   "source": [
    "## Getting started (Adjust settings to your experiment's needs)"
   ],
   "metadata": {
    "collapsed": false
   },
   "id": "317b36640a1a5743"
  },
  {
   "cell_type": "code",
   "execution_count": 1,
   "id": "initial_id",
   "metadata": {
    "collapsed": true,
    "ExecuteTime": {
     "end_time": "2025-03-22T19:51:33.461950800Z",
     "start_time": "2025-03-22T19:50:56.612029700Z"
    }
   },
   "outputs": [
    {
     "name": "stderr",
     "output_type": "stream",
     "text": [
      "C:\\Users\\chena\\PycharmProjects\\IR-rankingmodels\\.venv\\Lib\\site-packages\\beir\\util.py:11: TqdmExperimentalWarning: Using `tqdm.autonotebook.tqdm` in notebook mode. Use `tqdm.tqdm` instead to force console mode (e.g. in jupyter console)\n",
      "  from tqdm.autonotebook import tqdm\n"
     ]
    }
   ],
   "source": [
    "import os\n",
    "import sys\n",
    "import logging\n",
    "from beir import util\n",
    "from beir.datasets.data_loader import GenericDataLoader\n",
    "import torch\n",
    "from torch.utils.data import DataLoader\n",
    "from torch.optim import AdamW\n",
    "from ir_measures import nDCG, AP, P, R, RR\n",
    "from IRutils import dataprocessor, models, train, inference\n",
    "from IRutils.dataset import TripletRankingDataset\n",
    "from transformers import AutoTokenizer\n",
    "\n",
    "#################### THINGS TO CHANGE FOR YOUR EXPERIMENTS ####################\n",
    "\n",
    "dataset_name = \"scifact\"  # SELECT YOUR EXPERIMENT DATASET HERE\n",
    "model_name = \"distilbert-base-uncased\"  # SELECT YOUR MODEL HERE\n",
    "\n",
    "# Create dataset for a specific query length range (e.g., short queries)\n",
    "length_setting = 'short'\n",
    "ranges = {'short': (1, 10), 'medium': (10, 14), 'long': (14, sys.maxsize) }\n",
    "\n",
    "metrics = [nDCG@10, nDCG@100, AP@10, AP@100, P@10, R@10, P@100, R@100, RR]\n",
    "\n",
    "#################### THINGS TO CHANGE FOR YOUR EXPERIMENTS ####################\n",
    "\n",
    "logging.disable(logging.WARNING)\n",
    "\n",
    "datasets = {'msmarco': ['train', 'dev'],\n",
    "            'hotpotqa': ['train', 'dev', 'test'],\n",
    "            'arguana': ['test'],\n",
    "            'quora': ['dev', 'test'],\n",
    "            'scidocs': ['test'],  # small\n",
    "            'fever': ['train', 'dev', 'test'],  # large\n",
    "            'climate-fever': ['test'],\n",
    "            'scifact': ['train', 'test'],\n",
    "            'fiqa': ['train', 'dev', 'test'],\n",
    "            'nfcorpus': ['train', 'dev', 'test']\n",
    "            }\n",
    "\n",
    "max_len_doc = 512  # max token length\n",
    "random_state = 42"
   ]
  },
  {
   "cell_type": "code",
   "execution_count": 2,
   "outputs": [
    {
     "data": {
      "text/plain": "  0%|          | 0/5183 [00:00<?, ?it/s]",
      "application/vnd.jupyter.widget-view+json": {
       "version_major": 2,
       "version_minor": 0,
       "model_id": "e468f5b61e0e4ad392a3aefc9e2baa82"
      }
     },
     "metadata": {},
     "output_type": "display_data"
    },
    {
     "data": {
      "text/plain": "  0%|          | 0/5183 [00:00<?, ?it/s]",
      "application/vnd.jupyter.widget-view+json": {
       "version_major": 2,
       "version_minor": 0,
       "model_id": "47c4b44645484b87ad4f4cef0d3114f3"
      }
     },
     "metadata": {},
     "output_type": "display_data"
    },
    {
     "name": "stdout",
     "output_type": "stream",
     "text": [
      "Train and test set available!\n"
     ]
    }
   ],
   "source": [
    "# Download and unzip the dataset\n",
    "url = f\"https://public.ukp.informatik.tu-darmstadt.de/thakur/BEIR/datasets/{dataset_name}.zip\"\n",
    "data_path = util.download_and_unzip(url, \"datasets\")\n",
    "device = torch.device('cuda' if torch.cuda.is_available() else 'cpu')\n",
    "\n",
    "train_available = False\n",
    "if 'train' in datasets[dataset_name]:\n",
    "    # Load the dataset\n",
    "    docs, queries, qrels = GenericDataLoader(data_folder=data_path).load(split=\"train\")\n",
    "    docs_test, queries_test, qrels_test = GenericDataLoader(data_folder=data_path).load(split=\"test\")\n",
    "    train_available = True\n",
    "    print('Train and test set available!')\n",
    "else:\n",
    "    # Load the dataset\n",
    "    docs, queries, qrels = GenericDataLoader(data_folder=data_path).load(split=\"test\")\n",
    "    print('Only test set available!')"
   ],
   "metadata": {
    "collapsed": false,
    "ExecuteTime": {
     "end_time": "2025-03-22T19:51:33.616074400Z",
     "start_time": "2025-03-22T19:51:33.463455Z"
    }
   },
   "id": "b3e7ba21e8cd266b"
  },
  {
   "cell_type": "code",
   "execution_count": 3,
   "outputs": [],
   "source": [
    "# Load the tokenizer\n",
    "tokenizer = AutoTokenizer.from_pretrained(model_name)"
   ],
   "metadata": {
    "collapsed": false,
    "ExecuteTime": {
     "end_time": "2025-03-22T19:51:33.829978700Z",
     "start_time": "2025-03-22T19:51:33.606049400Z"
    }
   },
   "id": "d5b3d6619b369b9a"
  },
  {
   "cell_type": "code",
   "execution_count": 4,
   "outputs": [
    {
     "data": {
      "text/plain": "<Figure size 640x480 with 1 Axes>",
      "image/png": "[encoded data removed]"
     },
     "metadata": {},
     "output_type": "display_data"
    }
   ],
   "source": [
    "import matplotlib.pyplot as plt\n",
    "from collections import Counter\n",
    "\n",
    "text_lengths = [len(txt.split()) for txt in list(queries.values())]\n",
    "counts = Counter(text_lengths)\n",
    "text_lengths = list(set(text_lengths))\n",
    "\n",
    "counts = [counts[length] for length in text_lengths]\n",
    "# Create bar chart\n",
    "plt.bar(text_lengths, counts)\n",
    "\n",
    "# Add labels\n",
    "plt.xlabel(\"Query length\")\n",
    "plt.ylabel(\"Count\")\n",
    "plt.title(\"Distribution of query lengths\")\n",
    "\n",
    "# Display plot\n",
    "plt.show()\n"
   ],
   "metadata": {
    "collapsed": false,
    "ExecuteTime": {
     "end_time": "2025-03-22T19:51:34.417587400Z",
     "start_time": "2025-03-22T19:51:33.830980400Z"
    }
   },
   "id": "5cd00f05cb5c3db6"
  },
  {
   "cell_type": "code",
   "execution_count": 5,
   "outputs": [
    {
     "name": "stdout",
     "output_type": "stream",
     "text": [
      "(1, 10)\n"
     ]
    },
    {
     "data": {
      "text/plain": "<Figure size 640x480 with 1 Axes>",
      "image/png": "[encoded data removed]"
     },
     "metadata": {},
     "output_type": "display_data"
    }
   ],
   "source": [
    "short = {qid: q for qid, q in queries.items() if ranges['short'][0] <= len(q.split()) <= ranges['short'][1]}\n",
    "medium = {qid: q for qid, q in queries.items() if ranges['medium'][0] <= len(q.split()) <= ranges['medium'][1]}\n",
    "long = {qid: q for qid, q in queries.items() if ranges['long'][0] <= len(q.split())}\n",
    "\n",
    "counts = [len(short), len(medium), len(long)]\n",
    "\n",
    "print(ranges['short'])\n",
    "# Create bar chart\n",
    "plt.bar(ranges.keys(), counts)\n",
    "\n",
    "# Add labels\n",
    "plt.xlabel(\"Query length\")\n",
    "plt.ylabel(\"Count\")\n",
    "plt.title(\"Distribution of query lengths\")\n",
    "\n",
    "# Display plot\n",
    "plt.show()"
   ],
   "metadata": {
    "collapsed": false,
    "ExecuteTime": {
     "end_time": "2025-03-22T19:51:34.489774Z",
     "start_time": "2025-03-22T19:51:34.411047Z"
    }
   },
   "id": "eb38ac736f3866db"
  },
  {
   "cell_type": "markdown",
   "source": [
    "### Get test split (if no seperate test set available)"
   ],
   "metadata": {
    "collapsed": false
   },
   "id": "1a7d9b8e67d5d99"
  },
  {
   "cell_type": "code",
   "execution_count": 6,
   "outputs": [
    {
     "name": "stdout",
     "output_type": "stream",
     "text": [
      "Dataset size: 809\n",
      "test size: 300\n"
     ]
    }
   ],
   "source": [
    "range = ranges[length_setting]\n",
    "\n",
    "dp = dataprocessor.DataProcessor(queries, docs, qrels)\n",
    "\n",
    "print(f'Dataset size: {len(queries)}')\n",
    "\n",
    "# first seperate the test set (include queries of all lengths)\n",
    "if not train_available:\n",
    "    query_test, qrel_test = dp.get_testset(test_ratio=0.2, random_state=random_state)\n",
    "    print(f'test size: {len(query_test)}')\n",
    "else:\n",
    "    print(f'test size: {len(queries_test)}')"
   ],
   "metadata": {
    "collapsed": false,
    "ExecuteTime": {
     "end_time": "2025-03-22T19:51:34.490316200Z",
     "start_time": "2025-03-22T19:51:34.473344300Z"
    }
   },
   "id": "61f7a4264e1d88ef"
  },
  {
   "cell_type": "markdown",
   "source": [
    "### Query length filtering"
   ],
   "metadata": {
    "collapsed": false
   },
   "id": "a14477b476a15142"
  },
  {
   "cell_type": "code",
   "execution_count": 7,
   "outputs": [],
   "source": [
    "# filter by query length\n",
    "query_subset, qrels_subset = dp.get_subset(range[0], range[1])  # Adjust min/max length"
   ],
   "metadata": {
    "collapsed": false,
    "ExecuteTime": {
     "end_time": "2025-03-22T19:51:34.490820900Z",
     "start_time": "2025-03-22T19:51:34.476836300Z"
    }
   },
   "id": "6a3321bda81a637b"
  },
  {
   "cell_type": "markdown",
   "source": [
    "### Train Val split"
   ],
   "metadata": {
    "collapsed": false
   },
   "id": "442e5dbf79a69d79"
  },
  {
   "cell_type": "code",
   "execution_count": 8,
   "outputs": [
    {
     "name": "stdout",
     "output_type": "stream",
     "text": [
      "Example query from short subset:\n",
      "('1407', 'β1/Ketel is able to bind microtubules.')\n",
      "Length of subset of medium validation queries: 65\n",
      "Length of subset of short training queries: 258\n",
      "Length of subset of short queries: 323\n"
     ]
    }
   ],
   "source": [
    "print(f'Example query from {length_setting} subset:\\n{query_subset.popitem()}')\n",
    "\n",
    "query_train, query_val, qrel_train, qrel_val = dp.train_val_split(train_ratio=0.8, val_ratio=0.2, train_available=train_available, random_state=42)  # adjust if needed\n",
    "\n",
    "print(f'Length of subset of medium validation queries: {len(query_val)}')\n",
    "print(f'Length of subset of {length_setting} training queries: {len(query_train)}')\n",
    "print(f'Length of subset of {length_setting} queries: {len(query_subset)}')"
   ],
   "metadata": {
    "collapsed": false,
    "ExecuteTime": {
     "end_time": "2025-03-22T19:51:34.491828400Z",
     "start_time": "2025-03-22T19:51:34.485775100Z"
    }
   },
   "id": "2d4befbe86e3ba9a"
  },
  {
   "cell_type": "markdown",
   "source": [
    "### Check if the qrels already contain negative samples （If not create later)"
   ],
   "metadata": {
    "collapsed": false
   },
   "id": "4770b5618b545f18"
  },
  {
   "cell_type": "code",
   "execution_count": 9,
   "outputs": [
    {
     "name": "stdout",
     "output_type": "stream",
     "text": [
      "0\n"
     ]
    }
   ],
   "source": [
    "qrel_scores = list(qrels.values()) \n",
    "relevance_scores = [list(item.values()) for item in qrel_scores]\n",
    "num_negatives = relevance_scores[0].count(0)\n",
    "print(num_negatives)"
   ],
   "metadata": {
    "collapsed": false,
    "ExecuteTime": {
     "end_time": "2025-03-22T19:51:34.607551900Z",
     "start_time": "2025-03-22T19:51:34.491828400Z"
    }
   },
   "id": "f994281e36a5b927"
  },
  {
   "cell_type": "markdown",
   "source": [
    "### Create datasets and data loaders"
   ],
   "metadata": {
    "collapsed": false
   },
   "id": "58324ddeb0b3c7bf"
  },
  {
   "cell_type": "code",
   "execution_count": 10,
   "outputs": [
    {
     "name": "stdout",
     "output_type": "stream",
     "text": [
      "Creating training dataset...\n"
     ]
    },
    {
     "name": "stderr",
     "output_type": "stream",
     "text": [
      "100%|██████████| 258/258 [00:00<00:00, 5195.01it/s]\n"
     ]
    },
    {
     "name": "stdout",
     "output_type": "stream",
     "text": [
      "Creating validation dataset...\n"
     ]
    },
    {
     "name": "stderr",
     "output_type": "stream",
     "text": [
      "100%|██████████| 65/65 [00:00<00:00, 4774.18it/s]\n"
     ]
    },
    {
     "name": "stdout",
     "output_type": "stream",
     "text": [
      "Creating testing dataset...\n"
     ]
    },
    {
     "name": "stderr",
     "output_type": "stream",
     "text": [
      "100%|██████████| 300/300 [00:00<00:00, 5109.19it/s]\n"
     ]
    }
   ],
   "source": [
    "print('Creating training dataset...')\n",
    "train_dataset = TripletRankingDataset(query_train, docs, qrel_train, tokenizer, num_negatives, max_length=max_len_doc)\n",
    "train_loader = DataLoader(train_dataset, batch_size=8, shuffle=True)\n",
    "\n",
    "print('Creating validation dataset...')\n",
    "val_dataset = TripletRankingDataset(query_val, docs, qrel_val, tokenizer, num_negatives,max_length=max_len_doc)\n",
    "val_loader = DataLoader(val_dataset, batch_size=8, shuffle=True)\n",
    "\n",
    "print('Creating testing dataset...')\n",
    "if train_available:\n",
    "    test_dataset = TripletRankingDataset(queries_test, docs_test, qrels_test, tokenizer, num_negatives,max_length=max_len_doc)\n",
    "    test_loader = DataLoader(test_dataset, batch_size=8, shuffle=True)\n",
    "else:\n",
    "    test_dataset = TripletRankingDataset(query_test, docs, qrel_test, tokenizer, num_negatives,max_length=max_len_doc) "
   ],
   "metadata": {
    "collapsed": false,
    "ExecuteTime": {
     "end_time": "2025-03-22T19:51:34.710655900Z",
     "start_time": "2025-03-22T19:51:34.500174600Z"
    }
   },
   "id": "66d2c4809c9f3d5d"
  },
  {
   "cell_type": "markdown",
   "source": [
    "### Initialize model"
   ],
   "metadata": {
    "collapsed": false
   },
   "id": "33f7b31408fdfbf7"
  },
  {
   "cell_type": "code",
   "execution_count": 11,
   "outputs": [],
   "source": [
    "# Initialize model and optimizer\n",
    "device = torch.device(\"cuda\" if torch.cuda.is_available() else \"cpu\")\n",
    "model = models.TripletRankerModel(model_name).to(device)\n",
    "optimizer = AdamW(model.parameters(), lr=2e-5)\n",
    "model_path = os.path.join(os.getcwd(), f'models/{model_name}+{dataset_name}+{length_setting}_queries.pth')"
   ],
   "metadata": {
    "collapsed": false,
    "ExecuteTime": {
     "end_time": "2025-03-22T19:51:35.068113500Z",
     "start_time": "2025-03-22T19:51:34.634690900Z"
    }
   },
   "id": "90d4dda153d8d4a0"
  },
  {
   "cell_type": "markdown",
   "source": [
    "### Train model (load directly if already trained)"
   ],
   "metadata": {
    "collapsed": false
   },
   "id": "b346b91371f8ee56"
  },
  {
   "cell_type": "code",
   "execution_count": null,
   "outputs": [
    {
     "name": "stdout",
     "output_type": "stream",
     "text": [
      "C:\\Users\\chena\\PycharmProjects\\IR-rankingmodels\\models/distilbert-base-uncased+scifact+short_queries.pth\n"
     ]
    },
    {
     "data": {
      "text/plain": "Epoch 1/10 (Training):   0%|          | 0/750 [00:00<?, ?it/s]",
      "application/vnd.jupyter.widget-view+json": {
       "version_major": 2,
       "version_minor": 0,
       "model_id": "998f3899ebbe4f8c89f58bbfe852a97c"
      }
     },
     "metadata": {},
     "output_type": "display_data"
    },
    {
     "name": "stdout",
     "output_type": "stream",
     "text": [
      "Epoch 1/10, Average Training Loss: 0.6175\n"
     ]
    },
    {
     "name": "stderr",
     "output_type": "stream",
     "text": [
      "Validation: 100%|██████████| 170/170 [00:18<00:00,  9.41it/s]\n"
     ]
    },
    {
     "name": "stdout",
     "output_type": "stream",
     "text": [
      "Validation Loss: 0.6988\n",
      "Validation loss improved. Saving model.\n"
     ]
    },
    {
     "data": {
      "text/plain": "Epoch 2/10 (Training):   0%|          | 0/750 [00:00<?, ?it/s]",
      "application/vnd.jupyter.widget-view+json": {
       "version_major": 2,
       "version_minor": 0,
       "model_id": "a265205b37294cfdb5b7c5e8edba1c36"
      }
     },
     "metadata": {},
     "output_type": "display_data"
    }
   ],
   "source": [
    "print(model_path)\n",
    "if os.path.isfile(model_path):\n",
    "    model.load_state_dict(torch.load(model_path, map_location=device))\n",
    "else:\n",
    "    # Train the model\n",
    "    model = train.train_triplet_ranker(model, train_loader, val_loader, optimizer, device, model_path)"
   ],
   "metadata": {
    "collapsed": false,
    "is_executing": true,
    "ExecuteTime": {
     "start_time": "2025-03-22T19:51:35.067108300Z"
    }
   },
   "id": "61696e2993e57d70"
  },
  {
   "cell_type": "markdown",
   "source": [
    "## Run inference on test set"
   ],
   "metadata": {
    "collapsed": false
   },
   "id": "374c2aab9651bcba"
  },
  {
   "cell_type": "code",
   "execution_count": null,
   "outputs": [],
   "source": [
    "# Example usage (replace with your data and model)\n",
    "if train_available:\n",
    "    metric_scores = inference.evaluate(model, test_loader, device, qrels_test)\n",
    "else:\n",
    "    metric_scores = inference.evaluate(model, test_loader, device, qrel_test)\n",
    "\n",
    "for metric in metrics:\n",
    "    print(f'Metric {metric} score: {metric_scores[metric]:.4f}')"
   ],
   "metadata": {
    "collapsed": false,
    "is_executing": true
   },
   "id": "156e9f0f994a8821"
  },
  {
   "cell_type": "markdown",
   "source": [
    "## Write results to output"
   ],
   "metadata": {
    "collapsed": false
   },
   "id": "8e93bcfd6f67ceca"
  },
  {
   "cell_type": "code",
   "execution_count": null,
   "outputs": [],
   "source": [
    "# Save results to a file\n",
    "with open(f\"results/{model_name}+{dataset_name}+{length_setting}_queries.txt\", \"w\") as f:\n",
    "    f.write(f\"Evaluation Results for {model_name} model finetuned on {length_setting} queries from {dataset_name} dataset:\\n\")\n",
    "    f.write(f\"normalized Discounted Cumulative Gain@10: {metric_scores[nDCG@10]:.4f}\\n\")\n",
    "    f.write(f\"normalized Discounted Cumulative Gain@100: {metric_scores[nDCG@100]:.4f}\\n\")\n",
    "    f.write(f\"\\n\")\n",
    "    f.write(f\"[Mean] Average Precision@10: {metric_scores[AP@10]:.4f}\\n\")\n",
    "    f.write(f\"[Mean] Average Precision@100: {metric_scores[AP@100]:.4f}\\n\")\n",
    "    f.write(f\"\\n\")\n",
    "    f.write(f\"Precision@10: {metric_scores[P@10]:.4f}\\n\")\n",
    "    f.write(f\"Recall@10: {metric_scores[R@10]:.4f}\\n\")\n",
    "    f.write(f\"\\n\")\n",
    "    f.write(f\"Precision@100: {metric_scores[P@100]:.4f}\\n\")\n",
    "    f.write(f\"Recall@100: {metric_scores[R@100]:.4f}\\n\")\n",
    "    f.write(f\"\\n\")\n",
    "    f.write(f\"[Mean] Reciprocal Rank: {metric_scores[RR]:.4f}\\n\")\n",
    "    f.write(f\"\\n\")\n",
    "    f.write(f\"----------------------------------------------------\\n\")\n",
    "    f.write(f\"\\n\")\n",
    "    f.write(f\"Explanation of metrics:\\n\")\n",
    "    f.write(f\"NDCG@k (Normalized Discounted Cumulative Gain: Ranking Quality | Prioritizes highly relevant documents appearing earlier in the ranking.\\n\")\n",
    "    f.write(f\"MAP (Mean Average Precision): Overall Relevance | Measures ranking precision across all relevant documents. Best for small-scale retrieval tasks.\\n\")\n",
    "    f.write(f\"Precision@k: Relevance | Measures how many of the top-k documents are relevant. Works well in precision-sensitive applications.\\n\")\n",
    "    f.write(f\"Recall@k: Coverage | Measures how many relevant documents appear in the top-k results. Important in recall-sensitive tasks.\\n\")\n",
    "    f.write(f\"MRR (Mean Reciprocal Rank): Single Relevant Result | Focuses on ranking the first relevant document. Good for QA tasks.\\n\")"
   ],
   "metadata": {
    "collapsed": false,
    "is_executing": true
   },
   "id": "44e782fd22fb4942"
  }
 ],
 "metadata": {
  "kernelspec": {
   "display_name": "Python 3",
   "language": "python",
   "name": "python3"
  },
  "language_info": {
   "codemirror_mode": {
    "name": "ipython",
    "version": 2
   },
   "file_extension": ".py",
   "mimetype": "text/x-python",
   "name": "python",
   "nbconvert_exporter": "python",
   "pygments_lexer": "ipython2",
   "version": "2.7.6"
  }
 },
 "nbformat": 4,
 "nbformat_minor": 5
}
