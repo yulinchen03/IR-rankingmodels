{
 "cells": [
  {
   "cell_type": "markdown",
   "source": [
    "## Getting started (Adjust settings to your experiment's needs)"
   ],
   "metadata": {
    "collapsed": false
   },
   "id": "317b36640a1a5743"
  },
  {
   "cell_type": "code",
   "execution_count": 139,
   "id": "initial_id",
   "metadata": {
    "collapsed": true,
    "ExecuteTime": {
     "end_time": "2025-03-24T23:31:44.616540300Z",
     "start_time": "2025-03-24T23:31:44.571141Z"
    }
   },
   "outputs": [],
   "source": [
    "import os\n",
    "import sys\n",
    "import logging\n",
    "from beir import util\n",
    "from beir.datasets.data_loader import GenericDataLoader\n",
    "import torch\n",
    "from torch.utils.data import DataLoader\n",
    "from torch.optim import AdamW\n",
    "from ir_measures import nDCG, AP, P, R, RR\n",
    "from IRutils import dataprocessor, models, train, inference\n",
    "from IRutils.dataset import TripletRankingDataset\n",
    "from transformers import AutoTokenizer\n",
    "\n",
    "#################### THINGS TO CHANGE FOR YOUR EXPERIMENTS ####################\n",
    "\n",
    "dataset_name = \"quora\"  # SELECT YOUR EXPERIMENT DATASET HERE\n",
    "model_name = \"distilbert-base-uncased\"  # SELECT YOUR MODEL HERE\n",
    "\"\"\"\n",
    "Some options:\n",
    "DistilBERT: \"distilbert-base-uncased\" (66M params)\n",
    "BERT: \"bert-base-uncased\" (110M params) or \"bert-large-uncased\" (340M params)\n",
    "RoBERTa: \"roberta-base\" (125M params) or \"roberta-large\" (355M params)\n",
    "ALBERT: \"albert-base-v2\" (12M params) or \"albert-xxlarge-v2\" (235M params)\n",
    "ELECTRA: \"google/electra-small-generator\" (14M params) or \"google/electra-base-generator\" (110M params)\n",
    "DeBERTa: \"microsoft/deberta-base\" (140M params) or \"microsoft/deberta-v3-base\" (184M params)\n",
    "MPNet: \"microsoft/mpnet-base\" (110M params)\n",
    "XLM-RoBERTa: \"xlm-roberta-base\" (125M params) or \"xlm-roberta-large\" (355M params)\n",
    "T5: \"t5-small\" (60M params) or \"t5-base\" (220M params)\n",
    "BART: \"facebook/bart-base\" (140M params) or \"facebook/bart-large\" (406M params)\n",
    "LongFormer: \"allenai/longformer-base-4096\" (149M params)\n",
    "\n",
    "For the distilled/smaller variants that are closer to DistilBERT in size and speed:\n",
    "\n",
    "TinyBERT: \"huawei-noah/TinyBERT_General_4L_312D\" (15M params)\n",
    "MobileBERT: \"google/mobilebert-uncased\" (25M params)\n",
    "DistilRoBERTa: \"distilroberta-base\" (82M params)\n",
    "\"\"\"\n",
    "# Create dataset for a specific query length range (e.g., short queries)\n",
    "\"\"\"\n",
    "Options: \n",
    "short - 0-33 percentile (length)\n",
    "medium - 33-67 percentile (length)\n",
    "long - 67-100 percentile (length)\n",
    "full - all data (sampled to one third)\n",
    "\"\"\"\n",
    "length_setting = 'long'\n",
    "\n",
    "metrics = [nDCG@10, nDCG@100, AP@10, AP@100, P@10, R@10, P@100, R@100, RR]\n",
    "\n",
    "#################### THINGS TO CHANGE FOR YOUR EXPERIMENTS ####################\n",
    "\n",
    "logging.disable(logging.WARNING)\n",
    "\n",
    "datasets = {'msmarco': ['train', 'dev'],\n",
    "            'hotpotqa': ['train', 'dev', 'test'],\n",
    "            'arguana': ['test'],\n",
    "            'quora': ['dev', 'test'],\n",
    "            'scidocs': ['test'],  # small\n",
    "            'fever': ['train', 'dev', 'test'],  # large\n",
    "            'climate-fever': ['test'],\n",
    "            'scifact': ['train', 'test'],\n",
    "            'fiqa': ['train', 'dev', 'test'],\n",
    "            'nfcorpus': ['train', 'dev', 'test']\n",
    "            }\n",
    "\n",
    "max_len_doc = 512  # max token length\n",
    "random_state = 42"
   ]
  },
  {
   "cell_type": "code",
   "execution_count": 140,
   "outputs": [
    {
     "data": {
      "text/plain": "  0%|          | 0/522931 [00:00<?, ?it/s]",
      "application/vnd.jupyter.widget-view+json": {
       "version_major": 2,
       "version_minor": 0,
       "model_id": "cb754c10394d4e219ab4012856568138"
      }
     },
     "metadata": {},
     "output_type": "display_data"
    },
    {
     "name": "stdout",
     "output_type": "stream",
     "text": [
      "Only test set available!\n"
     ]
    }
   ],
   "source": [
    "# Download and unzip the dataset\n",
    "url = f\"https://public.ukp.informatik.tu-darmstadt.de/thakur/BEIR/datasets/{dataset_name}.zip\"\n",
    "data_path = util.download_and_unzip(url, \"datasets\")\n",
    "device = torch.device('cuda' if torch.cuda.is_available() else 'cpu')\n",
    "\n",
    "train_available = False\n",
    "if 'train' in datasets[dataset_name]:\n",
    "    # Load the dataset\n",
    "    docs, queries, qrels = GenericDataLoader(data_folder=data_path).load(split=\"train\")\n",
    "    docs_test, queries_test, qrels_test = GenericDataLoader(data_folder=data_path).load(split=\"test\")\n",
    "    train_available = True\n",
    "    print('Train and test set available!')\n",
    "else:\n",
    "    # Load the dataset\n",
    "    docs, queries, qrels = GenericDataLoader(data_folder=data_path).load(split=\"test\")\n",
    "    print('Only test set available!')"
   ],
   "metadata": {
    "collapsed": false,
    "ExecuteTime": {
     "end_time": "2025-03-24T23:31:46.462089700Z",
     "start_time": "2025-03-24T23:31:44.620541700Z"
    }
   },
   "id": "b3e7ba21e8cd266b"
  },
  {
   "cell_type": "code",
   "execution_count": 141,
   "outputs": [],
   "source": [
    "# Load the tokenizer\n",
    "tokenizer = AutoTokenizer.from_pretrained(model_name)"
   ],
   "metadata": {
    "collapsed": false,
    "ExecuteTime": {
     "end_time": "2025-03-24T23:31:46.711025500Z",
     "start_time": "2025-03-24T23:31:46.456543700Z"
    }
   },
   "id": "d5b3d6619b369b9a"
  },
  {
   "cell_type": "markdown",
   "source": [
    "## Data visualization"
   ],
   "metadata": {
    "collapsed": false
   },
   "id": "b42a02ce6f4345a2"
  },
  {
   "cell_type": "code",
   "execution_count": 142,
   "outputs": [],
   "source": [
    "import numpy as np\n",
    "\n",
    "def calculate_percentiles(query_lengths):\n",
    "    # Calculate the percentiles\n",
    "    t1 = np.percentile(query_lengths, 33)\n",
    "    t2 = np.percentile(query_lengths, 67)\n",
    "    return int(t1), int(t2)"
   ],
   "metadata": {
    "collapsed": false,
    "ExecuteTime": {
     "end_time": "2025-03-24T23:31:46.720523600Z",
     "start_time": "2025-03-24T23:31:46.711025500Z"
    }
   },
   "id": "acc5884272c0a695"
  },
  {
   "cell_type": "code",
   "execution_count": 143,
   "outputs": [
    {
     "name": "stdout",
     "output_type": "stream",
     "text": [
      "t1: 8\n",
      "t2: 10\n"
     ]
    },
    {
     "data": {
      "text/plain": "<Figure size 640x480 with 1 Axes>",
      "image/png": "[encoded data removed]"
     },
     "metadata": {},
     "output_type": "display_data"
    }
   ],
   "source": [
    "import matplotlib.pyplot as plt\n",
    "from collections import Counter\n",
    "\n",
    "query_lengths = [len(txt.split()) for txt in list(queries.values())]\n",
    "t1, t2 = calculate_percentiles(query_lengths)\n",
    "print(f't1: {t1}')\n",
    "print(f't2: {t2}')\n",
    "ranges = {'short': (1, t1-1), 'medium': (t1, t2), 'long': (t2+1, sys.maxsize), 'full': (1, sys.maxsize)}\n",
    "\n",
    "counts = Counter(query_lengths)\n",
    "text_lengths = list(set(query_lengths))\n",
    "\n",
    "counts = [counts[length] for length in text_lengths]\n",
    "# Create bar chart\n",
    "plt.bar(text_lengths, counts)\n",
    "\n",
    "# Add labels\n",
    "plt.xlabel(\"Query length\")\n",
    "plt.ylabel(\"Count\")\n",
    "plt.title(\"Distribution of query lengths\")\n",
    "\n",
    "# Display plot\n",
    "plt.show()\n"
   ],
   "metadata": {
    "collapsed": false,
    "ExecuteTime": {
     "end_time": "2025-03-24T23:31:46.812930300Z",
     "start_time": "2025-03-24T23:31:46.716525400Z"
    }
   },
   "id": "5cd00f05cb5c3db6"
  },
  {
   "cell_type": "markdown",
   "source": [
    "### Get test split (if no seperate test set available)"
   ],
   "metadata": {
    "collapsed": false
   },
   "id": "1a7d9b8e67d5d99"
  },
  {
   "cell_type": "code",
   "execution_count": 144,
   "outputs": [
    {
     "name": "stdout",
     "output_type": "stream",
     "text": [
      "Dataset size: 10000\n",
      "test size: 2000\n"
     ]
    }
   ],
   "source": [
    "dp = dataprocessor.DataProcessor(queries, docs, qrels)\n",
    "\n",
    "print(f'Dataset size: {len(queries)}')\n",
    "\n",
    "# first seperate the test set (include queries of all lengths)\n",
    "if not train_available:\n",
    "    query_test, qrel_test = dp.get_testset(test_ratio=0.2, random_state=random_state)\n",
    "    print(f'test size: {len(query_test)}')\n",
    "else:\n",
    "    print(f'test size: {len(queries_test)}')"
   ],
   "metadata": {
    "collapsed": false,
    "ExecuteTime": {
     "end_time": "2025-03-24T23:31:46.895201900Z",
     "start_time": "2025-03-24T23:31:46.810931100Z"
    }
   },
   "id": "61f7a4264e1d88ef"
  },
  {
   "cell_type": "code",
   "execution_count": 145,
   "outputs": [
    {
     "data": {
      "text/plain": "<Figure size 640x480 with 1 Axes>",
      "image/png": "[encoded data removed]"
     },
     "metadata": {},
     "output_type": "display_data"
    }
   ],
   "source": [
    "short = {qid: q for qid, q in dp.queries.items() if 1 <= len(q.split()) <= ranges['short'][1]}\n",
    "medium = {qid: q for qid, q in dp.queries.items() if ranges['medium'][0] <= len(q.split()) <= ranges['medium'][1]}\n",
    "long = {qid: q for qid, q in dp.queries.items() if ranges['long'][0] <= len(q.split())}\n",
    "\n",
    "counts = [len(short), len(medium), len(long)]\n",
    "\n",
    "# Create bar chart\n",
    "plt.bar(list(ranges.keys())[:3], counts)\n",
    "\n",
    "# Add labels\n",
    "plt.xlabel(\"Query length\")\n",
    "plt.ylabel(\"Count\")\n",
    "plt.title(\"Distribution of query lengths\")\n",
    "\n",
    "# Display plot\n",
    "plt.show()"
   ],
   "metadata": {
    "collapsed": false,
    "ExecuteTime": {
     "end_time": "2025-03-24T23:31:46.960062800Z",
     "start_time": "2025-03-24T23:31:46.880680500Z"
    }
   },
   "id": "c25c6bb1acde086e"
  },
  {
   "cell_type": "markdown",
   "source": [
    "### Query length filtering"
   ],
   "metadata": {
    "collapsed": false
   },
   "id": "a14477b476a15142"
  },
  {
   "cell_type": "code",
   "execution_count": 146,
   "outputs": [
    {
     "name": "stdout",
     "output_type": "stream",
     "text": [
      "Length range: (11, 9223372036854775807)\n"
     ]
    }
   ],
   "source": [
    "# filter by query length\n",
    "print(f'Length range: {ranges[length_setting]}')\n",
    "\n",
    "full = True if length_setting == 'full' else False\n",
    "\n",
    "query_subset, qrels_subset = dp.get_subset(ranges[length_setting][0], ranges[length_setting][1], full=full)  # Adjust min/max length"
   ],
   "metadata": {
    "collapsed": false,
    "ExecuteTime": {
     "end_time": "2025-03-24T23:31:46.972285800Z",
     "start_time": "2025-03-24T23:31:46.953062100Z"
    }
   },
   "id": "6a3321bda81a637b"
  },
  {
   "cell_type": "markdown",
   "source": [
    "### Train Val split"
   ],
   "metadata": {
    "collapsed": false
   },
   "id": "442e5dbf79a69d79"
  },
  {
   "cell_type": "code",
   "execution_count": 147,
   "outputs": [
    {
     "name": "stdout",
     "output_type": "stream",
     "text": [
      "Example query from long subset:\n",
      "('537876', 'How do Russian politics and geostrategy affect Australia and New Zealand?')\n",
      "Length of subset of long validation queries: 483\n",
      "Length of subset of long training queries: 1929\n",
      "Length of subset of long queries: 2412\n"
     ]
    }
   ],
   "source": [
    "print(f'Example query from {length_setting} subset:\\n{query_subset.popitem()}')\n",
    "\n",
    "query_train, query_val, qrel_train, qrel_val = dp.train_val_split(train_ratio=0.8, val_ratio=0.2, random_state=42)  # adjust if needed\n",
    "\n",
    "print(f'Length of subset of {length_setting} validation queries: {len(query_val)}')\n",
    "print(f'Length of subset of {length_setting} training queries: {len(query_train)}')\n",
    "print(f'Length of subset of {length_setting} queries: {len(query_subset)}')"
   ],
   "metadata": {
    "collapsed": false,
    "ExecuteTime": {
     "end_time": "2025-03-24T23:31:47.065387300Z",
     "start_time": "2025-03-24T23:31:46.966032600Z"
    }
   },
   "id": "2d4befbe86e3ba9a"
  },
  {
   "cell_type": "markdown",
   "source": [
    "### Distribution of training data"
   ],
   "metadata": {
    "collapsed": false
   },
   "id": "d75be1228c5116ec"
  },
  {
   "cell_type": "code",
   "execution_count": 148,
   "outputs": [
    {
     "data": {
      "text/plain": "<Figure size 640x480 with 1 Axes>",
      "image/png": "[encoded data removed]"
     },
     "metadata": {},
     "output_type": "display_data"
    }
   ],
   "source": [
    "short = {qid: q for qid, q in query_train.items() if 1 <= len(q.split()) <= ranges['short'][1]}\n",
    "medium = {qid: q for qid, q in query_train.items() if ranges['medium'][0] <= len(q.split()) <= ranges['medium'][1]}\n",
    "long = {qid: q for qid, q in query_train.items() if ranges['long'][0] <= len(q.split())}\n",
    "\n",
    "counts = [len(short), len(medium), len(long)]\n",
    "\n",
    "# Create bar chart\n",
    "plt.bar(list(ranges.keys())[:3], counts)\n",
    "\n",
    "# Add labels\n",
    "plt.xlabel(\"Query length\")\n",
    "plt.ylabel(\"Count\")\n",
    "plt.title(\"Distribution of query lengths\")\n",
    "\n",
    "# Display plot\n",
    "plt.show()"
   ],
   "metadata": {
    "collapsed": false,
    "ExecuteTime": {
     "end_time": "2025-03-24T23:31:47.067387100Z",
     "start_time": "2025-03-24T23:31:46.972285800Z"
    }
   },
   "id": "4f63037b822dfa9e"
  },
  {
   "cell_type": "markdown",
   "source": [
    "### Check if the qrels already contain negative samples （If not create later)"
   ],
   "metadata": {
    "collapsed": false
   },
   "id": "4770b5618b545f18"
  },
  {
   "cell_type": "code",
   "execution_count": 149,
   "outputs": [
    {
     "name": "stdout",
     "output_type": "stream",
     "text": [
      "Number of negatives in qrels: 0\n"
     ]
    }
   ],
   "source": [
    "qrel_scores = list(qrels.values()) \n",
    "relevance_scores = [list(item.values()) for item in qrel_scores]\n",
    "num_negatives = relevance_scores[0].count(0)\n",
    "print(f'Number of negatives in qrels: {num_negatives}')"
   ],
   "metadata": {
    "collapsed": false,
    "ExecuteTime": {
     "end_time": "2025-03-24T23:31:47.068387600Z",
     "start_time": "2025-03-24T23:31:47.063387500Z"
    }
   },
   "id": "f994281e36a5b927"
  },
  {
   "cell_type": "markdown",
   "source": [
    "### Create datasets and data loaders"
   ],
   "metadata": {
    "collapsed": false
   },
   "id": "58324ddeb0b3c7bf"
  },
  {
   "cell_type": "code",
   "execution_count": 150,
   "outputs": [
    {
     "name": "stdout",
     "output_type": "stream",
     "text": [
      "Creating training dataset...\n"
     ]
    },
    {
     "name": "stderr",
     "output_type": "stream",
     "text": [
      "100%|██████████| 1929/1929 [01:14<00:00, 25.91it/s]\n"
     ]
    },
    {
     "name": "stdout",
     "output_type": "stream",
     "text": [
      "Creating validation dataset...\n"
     ]
    },
    {
     "name": "stderr",
     "output_type": "stream",
     "text": [
      "100%|██████████| 483/483 [00:17<00:00, 26.96it/s]\n"
     ]
    },
    {
     "name": "stdout",
     "output_type": "stream",
     "text": [
      "Creating testing dataset...\n"
     ]
    },
    {
     "name": "stderr",
     "output_type": "stream",
     "text": [
      "100%|██████████| 2000/2000 [01:15<00:00, 26.45it/s]\n"
     ]
    }
   ],
   "source": [
    "print('Creating training dataset...')\n",
    "train_dataset = TripletRankingDataset(query_train, docs, qrel_train, tokenizer, num_negatives, max_length=max_len_doc)\n",
    "train_loader = DataLoader(train_dataset, batch_size=8, shuffle=True)\n",
    "\n",
    "print('Creating validation dataset...')\n",
    "val_dataset = TripletRankingDataset(query_val, docs, qrel_val, tokenizer, num_negatives,max_length=max_len_doc)\n",
    "val_loader = DataLoader(val_dataset, batch_size=8, shuffle=True)\n",
    "\n",
    "print('Creating testing dataset...')\n",
    "if train_available:\n",
    "    test_dataset = TripletRankingDataset(queries_test, docs_test, qrels_test, tokenizer, num_negatives,max_length=max_len_doc)\n",
    "    test_loader = DataLoader(test_dataset, batch_size=8, shuffle=True)\n",
    "else:\n",
    "    test_dataset = TripletRankingDataset(query_test, docs, qrel_test, tokenizer, num_negatives,max_length=max_len_doc) \n",
    "    test_loader = DataLoader(test_dataset, batch_size=8, shuffle=True)"
   ],
   "metadata": {
    "collapsed": false,
    "ExecuteTime": {
     "end_time": "2025-03-24T23:34:35.137478800Z",
     "start_time": "2025-03-24T23:31:47.063387500Z"
    }
   },
   "id": "66d2c4809c9f3d5d"
  },
  {
   "cell_type": "markdown",
   "source": [
    "### Initialize model"
   ],
   "metadata": {
    "collapsed": false
   },
   "id": "33f7b31408fdfbf7"
  },
  {
   "cell_type": "code",
   "execution_count": 151,
   "outputs": [],
   "source": [
    "# Initialize model and optimizer\n",
    "device = torch.device(\"cuda\" if torch.cuda.is_available() else \"cpu\")\n",
    "model = models.TripletRankerModel(model_name).to(device)\n",
    "optimizer = AdamW(model.parameters(), lr=2e-5)\n",
    "model_path = os.path.join(os.getcwd(), f'models/{model_name}+{dataset_name}+{length_setting}_queries.pth')"
   ],
   "metadata": {
    "collapsed": false,
    "ExecuteTime": {
     "end_time": "2025-03-24T23:34:35.422576800Z",
     "start_time": "2025-03-24T23:34:35.126720Z"
    }
   },
   "id": "90d4dda153d8d4a0"
  },
  {
   "cell_type": "markdown",
   "source": [
    "### Train model (load directly if already trained)"
   ],
   "metadata": {
    "collapsed": false
   },
   "id": "b346b91371f8ee56"
  },
  {
   "cell_type": "code",
   "execution_count": 152,
   "outputs": [
    {
     "name": "stdout",
     "output_type": "stream",
     "text": [
      "C:\\Users\\chena\\PycharmProjects\\IR-rankingmodels\\models/distilbert-base-uncased+quora+long_queries.pth\n"
     ]
    },
    {
     "data": {
      "text/plain": "Epoch 1/10 (Training):   0%|          | 0/6830 [00:00<?, ?it/s]",
      "application/vnd.jupyter.widget-view+json": {
       "version_major": 2,
       "version_minor": 0,
       "model_id": "f6c388f46dee49e9963cb3016bd04fc3"
      }
     },
     "metadata": {},
     "output_type": "display_data"
    },
    {
     "name": "stdout",
     "output_type": "stream",
     "text": [
      "Epoch 1/10, Average Training Loss: 0.1083\n"
     ]
    },
    {
     "name": "stderr",
     "output_type": "stream",
     "text": [
      "Validation: 100%|██████████| 1630/1630 [02:35<00:00, 10.47it/s]\n"
     ]
    },
    {
     "name": "stdout",
     "output_type": "stream",
     "text": [
      "Validation Loss: 0.2192\n",
      "Validation loss improved. Saving model.\n"
     ]
    },
    {
     "data": {
      "text/plain": "Epoch 2/10 (Training):   0%|          | 0/6830 [00:00<?, ?it/s]",
      "application/vnd.jupyter.widget-view+json": {
       "version_major": 2,
       "version_minor": 0,
       "model_id": "13535bf09b284590a47cd343cbf83a70"
      }
     },
     "metadata": {},
     "output_type": "display_data"
    },
    {
     "name": "stdout",
     "output_type": "stream",
     "text": [
      "Epoch 2/10, Average Training Loss: 0.0481\n"
     ]
    },
    {
     "name": "stderr",
     "output_type": "stream",
     "text": [
      "Validation: 100%|██████████| 1630/1630 [02:35<00:00, 10.46it/s]\n"
     ]
    },
    {
     "name": "stdout",
     "output_type": "stream",
     "text": [
      "Validation Loss: 0.0824\n",
      "Validation loss improved. Saving model.\n"
     ]
    },
    {
     "data": {
      "text/plain": "Epoch 3/10 (Training):   0%|          | 0/6830 [00:00<?, ?it/s]",
      "application/vnd.jupyter.widget-view+json": {
       "version_major": 2,
       "version_minor": 0,
       "model_id": "4b9bfae531224d9db6f3a6d6b9a49489"
      }
     },
     "metadata": {},
     "output_type": "display_data"
    },
    {
     "name": "stdout",
     "output_type": "stream",
     "text": [
      "Epoch 3/10, Average Training Loss: 0.5980\n"
     ]
    },
    {
     "name": "stderr",
     "output_type": "stream",
     "text": [
      "Validation: 100%|██████████| 1630/1630 [02:36<00:00, 10.42it/s]"
     ]
    },
    {
     "name": "stdout",
     "output_type": "stream",
     "text": [
      "Validation Loss: 1.0000\n",
      "Validation loss did not improve. Patience: 1/3\n"
     ]
    },
    {
     "name": "stderr",
     "output_type": "stream",
     "text": [
      "\n"
     ]
    },
    {
     "data": {
      "text/plain": "Epoch 4/10 (Training):   0%|          | 0/6830 [00:00<?, ?it/s]",
      "application/vnd.jupyter.widget-view+json": {
       "version_major": 2,
       "version_minor": 0,
       "model_id": "7ecd345fbc2b4c01b3e57ae05f9ea559"
      }
     },
     "metadata": {},
     "output_type": "display_data"
    },
    {
     "name": "stdout",
     "output_type": "stream",
     "text": [
      "Epoch 4/10, Average Training Loss: 0.4426\n"
     ]
    },
    {
     "name": "stderr",
     "output_type": "stream",
     "text": [
      "Validation: 100%|██████████| 1630/1630 [02:36<00:00, 10.40it/s]"
     ]
    },
    {
     "name": "stdout",
     "output_type": "stream",
     "text": [
      "Validation Loss: 0.0922\n",
      "Validation loss did not improve. Patience: 2/3\n"
     ]
    },
    {
     "name": "stderr",
     "output_type": "stream",
     "text": [
      "\n"
     ]
    },
    {
     "data": {
      "text/plain": "Epoch 5/10 (Training):   0%|          | 0/6830 [00:00<?, ?it/s]",
      "application/vnd.jupyter.widget-view+json": {
       "version_major": 2,
       "version_minor": 0,
       "model_id": "51de5c1deeee48cd811cd437df79b8bf"
      }
     },
     "metadata": {},
     "output_type": "display_data"
    },
    {
     "name": "stdout",
     "output_type": "stream",
     "text": [
      "Epoch 5/10, Average Training Loss: 0.0591\n"
     ]
    },
    {
     "name": "stderr",
     "output_type": "stream",
     "text": [
      "Validation: 100%|██████████| 1630/1630 [02:36<00:00, 10.42it/s]"
     ]
    },
    {
     "name": "stdout",
     "output_type": "stream",
     "text": [
      "Validation Loss: 0.1750\n",
      "Validation loss did not improve. Patience: 3/3\n",
      "Early stopping triggered.\n",
      "Loaded best model based on validation loss.\n",
      "Training complete!\n"
     ]
    },
    {
     "name": "stderr",
     "output_type": "stream",
     "text": [
      "\n"
     ]
    }
   ],
   "source": [
    "print(model_path)\n",
    "if os.path.isfile(model_path):\n",
    "    model.load_state_dict(torch.load(model_path, map_location=device))\n",
    "else:\n",
    "    # Train the model\n",
    "    model = train.train_triplet_ranker(model, train_loader, val_loader, optimizer, device, model_path)"
   ],
   "metadata": {
    "collapsed": false,
    "ExecuteTime": {
     "end_time": "2025-03-25T02:30:41.460213600Z",
     "start_time": "2025-03-24T23:34:35.423579100Z"
    }
   },
   "id": "61696e2993e57d70"
  },
  {
   "cell_type": "markdown",
   "source": [
    "## Run inference on test set"
   ],
   "metadata": {
    "collapsed": false
   },
   "id": "374c2aab9651bcba"
  },
  {
   "cell_type": "code",
   "execution_count": 153,
   "outputs": [
    {
     "name": "stderr",
     "output_type": "stream",
     "text": [
      "Evaluating: 100%|██████████| 8163/8163 [13:03<00:00, 10.42it/s]"
     ]
    },
    {
     "name": "stdout",
     "output_type": "stream",
     "text": [
      "Metric nDCG@10 score: 0.7807\n",
      "Metric nDCG@100 score: 0.7982\n",
      "Metric AP@10 score: 0.7205\n",
      "Metric AP@100 score: 0.7301\n",
      "Metric P@10 score: 0.1383\n",
      "Metric R@10 score: 0.9426\n",
      "Metric P@100 score: 0.0162\n",
      "Metric R@100 score: 0.9993\n",
      "Metric RR score: 0.7303\n"
     ]
    },
    {
     "name": "stderr",
     "output_type": "stream",
     "text": [
      "\n"
     ]
    }
   ],
   "source": [
    "# Example usage (replace with your data and model)\n",
    "if train_available:\n",
    "    metric_scores = inference.evaluate(model, test_loader, device, qrels_test)\n",
    "else:\n",
    "    metric_scores = inference.evaluate(model, test_loader, device, qrel_test)\n",
    "    \n",
    "for metric in metrics:\n",
    "    print(f'Metric {metric} score: {metric_scores[metric]:.4f}')"
   ],
   "metadata": {
    "collapsed": false,
    "ExecuteTime": {
     "end_time": "2025-03-25T02:43:44.725865800Z",
     "start_time": "2025-03-25T02:30:41.452213Z"
    }
   },
   "id": "156e9f0f994a8821"
  },
  {
   "cell_type": "markdown",
   "source": [
    "## Write results to output"
   ],
   "metadata": {
    "collapsed": false
   },
   "id": "8e93bcfd6f67ceca"
  },
  {
   "cell_type": "code",
   "execution_count": 154,
   "outputs": [],
   "source": [
    "# Save results to a file\n",
    "with open(f\"results/{model_name}+{dataset_name}+{length_setting}_queries.txt\", \"w\") as f:\n",
    "    f.write(f\"Evaluation Results for {model_name} model finetuned on {length_setting} queries from {dataset_name} dataset:\\n\")\n",
    "    f.write(f\"normalized Discounted Cumulative Gain@10: {metric_scores[nDCG@10]:.4f}\\n\")\n",
    "    f.write(f\"normalized Discounted Cumulative Gain@100: {metric_scores[nDCG@100]:.4f}\\n\")\n",
    "    f.write(f\"\\n\")\n",
    "    f.write(f\"[Mean] Average Precision@10: {metric_scores[AP@10]:.4f}\\n\")\n",
    "    f.write(f\"[Mean] Average Precision@100: {metric_scores[AP@100]:.4f}\\n\")\n",
    "    f.write(f\"\\n\")\n",
    "    f.write(f\"Precision@10: {metric_scores[P@10]:.4f}\\n\")\n",
    "    f.write(f\"Recall@10: {metric_scores[R@10]:.4f}\\n\")\n",
    "    f.write(f\"\\n\")\n",
    "    f.write(f\"Precision@100: {metric_scores[P@100]:.4f}\\n\")\n",
    "    f.write(f\"Recall@100: {metric_scores[R@100]:.4f}\\n\")\n",
    "    f.write(f\"\\n\")\n",
    "    f.write(f\"[Mean] Reciprocal Rank: {metric_scores[RR]:.4f}\\n\")\n",
    "    f.write(f\"\\n\")\n",
    "    f.write(f\"----------------------------------------------------\\n\")\n",
    "    f.write(f\"\\n\")\n",
    "    f.write(f\"Explanation of metrics:\\n\")\n",
    "    f.write(f\"NDCG@k (Normalized Discounted Cumulative Gain: Ranking Quality | Prioritizes highly relevant documents appearing earlier in the ranking.\\n\")\n",
    "    f.write(f\"MAP (Mean Average Precision): Overall Relevance | Measures ranking precision across all relevant documents. Best for small-scale retrieval tasks.\\n\")\n",
    "    f.write(f\"Precision@k: Relevance | Measures how many of the top-k documents are relevant. Works well in precision-sensitive applications.\\n\")\n",
    "    f.write(f\"Recall@k: Coverage | Measures how many relevant documents appear in the top-k results. Important in recall-sensitive tasks.\\n\")\n",
    "    f.write(f\"MRR (Mean Reciprocal Rank): Single Relevant Result | Focuses on ranking the first relevant document. Good for QA tasks.\\n\")"
   ],
   "metadata": {
    "collapsed": false,
    "ExecuteTime": {
     "end_time": "2025-03-25T02:43:44.728870800Z",
     "start_time": "2025-03-25T02:43:44.714852800Z"
    }
   },
   "id": "44e782fd22fb4942"
  },
  {
   "cell_type": "code",
   "execution_count": 154,
   "outputs": [],
   "source": [],
   "metadata": {
    "collapsed": false,
    "ExecuteTime": {
     "end_time": "2025-03-25T02:43:44.728870800Z",
     "start_time": "2025-03-25T02:43:44.719812700Z"
    }
   },
   "id": "e89d10cb4f728378"
  }
 ],
 "metadata": {
  "kernelspec": {
   "display_name": "Python 3",
   "language": "python",
   "name": "python3"
  },
  "language_info": {
   "codemirror_mode": {
    "name": "ipython",
    "version": 2
   },
   "file_extension": ".py",
   "mimetype": "text/x-python",
   "name": "python",
   "nbconvert_exporter": "python",
   "pygments_lexer": "ipython2",
   "version": "2.7.6"
  }
 },
 "nbformat": 4,
 "nbformat_minor": 5
}
