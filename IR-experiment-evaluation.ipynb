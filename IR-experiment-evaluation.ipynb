{
 "cells": [
  {
   "cell_type": "markdown",
   "id": "317b36640a1a5743",
   "metadata": {
    "collapsed": false
   },
   "source": [
    "## Getting started (Adjust settings to your experiment's needs)"
   ]
  },
  {
   "cell_type": "code",
   "execution_count": 2,
   "id": "initial_id",
   "metadata": {
    "ExecuteTime": {
     "end_time": "2025-03-23T15:18:40.100370100Z",
     "start_time": "2025-03-23T15:18:40.054863400Z"
    },
    "collapsed": true
   },
   "outputs": [
    {
     "name": "stderr",
     "output_type": "stream",
     "text": [
      "c:\\Users\\eanto\\OneDrive\\Documents\\dsait\\quarter_3\\information_retrieval\\research\\IRvenv\\Lib\\site-packages\\beir\\util.py:11: TqdmExperimentalWarning: Using `tqdm.autonotebook.tqdm` in notebook mode. Use `tqdm.tqdm` instead to force console mode (e.g. in jupyter console)\n",
      "  from tqdm.autonotebook import tqdm\n"
     ]
    }
   ],
   "source": [
    "import os\n",
    "import sys\n",
    "import logging\n",
    "from beir import util\n",
    "from beir.datasets.data_loader import GenericDataLoader\n",
    "import torch\n",
    "from torch.utils.data import DataLoader\n",
    "from torch.optim import AdamW\n",
    "from ir_measures import nDCG, AP, P, R, RR\n",
    "from IRutils import dataprocessor, models, train, inference\n",
    "from IRutils.dataset import TripletRankingDataset\n",
    "from transformers import AutoTokenizer\n",
    "\n",
    "#################### THINGS TO CHANGE FOR YOUR EXPERIMENTS ####################\n",
    "\n",
    "dataset_name = \"scifact\"  # SELECT YOUR EXPERIMENT DATASET HERE\n",
    "model_name = \"distilbert-base-uncased\"  # SELECT YOUR MODEL HERE\n",
    "\n",
    "# Create dataset for a specific query length range (e.g., short queries)\n",
    "length_setting = 'full'\n",
    "\n",
    "metrics = [nDCG@10, nDCG@100, AP@10, AP@100, P@10, R@10, P@100, R@100, RR]\n",
    "\n",
    "#################### THINGS TO CHANGE FOR YOUR EXPERIMENTS ####################\n",
    "\n",
    "logging.disable(logging.WARNING)\n",
    "\n",
    "datasets = {'msmarco': ['train', 'dev'],\n",
    "            'hotpotqa': ['train', 'dev', 'test'],\n",
    "            'arguana': ['test'],\n",
    "            'quora': ['dev', 'test'],\n",
    "            'scidocs': ['test'],  # small\n",
    "            'fever': ['train', 'dev', 'test'],  # large\n",
    "            'climate-fever': ['test'],\n",
    "            'scifact': ['train', 'test'],\n",
    "            'fiqa': ['train', 'dev', 'test'],\n",
    "            'nfcorpus': ['train', 'dev', 'test']\n",
    "            }\n",
    "\n",
    "max_len_doc = 512  # max token length\n",
    "random_state = 42"
   ]
  },
  {
   "cell_type": "code",
   "execution_count": 3,
   "id": "b3e7ba21e8cd266b",
   "metadata": {
    "ExecuteTime": {
     "end_time": "2025-03-23T15:18:41.841548Z",
     "start_time": "2025-03-23T15:18:40.103880500Z"
    },
    "collapsed": false
   },
   "outputs": [
    {
     "data": {
      "application/vnd.jupyter.widget-view+json": {
       "model_id": "e06bad15f67c4216bf63c3dfc8a304e3",
       "version_major": 2,
       "version_minor": 0
      },
      "text/plain": [
       "  0%|          | 0/5183 [00:00<?, ?it/s]"
      ]
     },
     "metadata": {},
     "output_type": "display_data"
    },
    {
     "data": {
      "application/vnd.jupyter.widget-view+json": {
       "model_id": "992d4e9d700349baba297b5d6173076f",
       "version_major": 2,
       "version_minor": 0
      },
      "text/plain": [
       "  0%|          | 0/5183 [00:00<?, ?it/s]"
      ]
     },
     "metadata": {},
     "output_type": "display_data"
    },
    {
     "name": "stdout",
     "output_type": "stream",
     "text": [
      "Train and test set available!\n"
     ]
    }
   ],
   "source": [
    "# Download and unzip the dataset\n",
    "data_path = f\"./datasets/{dataset_name}\"\n",
    "if not os.path.exists(data_path):\n",
    "    url = f\"https://public.ukp.informatik.tu-darmstadt.de/thakur/BEIR/datasets/{dataset_name}.zip\"\n",
    "    data_path = util.download_and_unzip(url, \"datasets\")\n",
    "device = torch.device('cuda' if torch.cuda.is_available() else 'cpu')\n",
    "\n",
    "train_available = False\n",
    "if 'train' in datasets[dataset_name]:\n",
    "    # Load the dataset\n",
    "    docs, queries, qrels = GenericDataLoader(data_folder=data_path).load(split=\"train\")\n",
    "    docs_test, queries_test, qrels_test = GenericDataLoader(data_folder=data_path).load(split=\"test\")\n",
    "    train_available = True\n",
    "    print('Train and test set available!')\n",
    "else:\n",
    "    # Load the dataset\n",
    "    docs, queries, qrels = GenericDataLoader(data_folder=data_path).load(split=\"test\")\n",
    "    print('Only test set available!')"
   ]
  },
  {
   "cell_type": "code",
   "execution_count": 4,
   "id": "d5b3d6619b369b9a",
   "metadata": {
    "ExecuteTime": {
     "end_time": "2025-03-23T15:18:42.027772400Z",
     "start_time": "2025-03-23T15:18:41.839046300Z"
    },
    "collapsed": false
   },
   "outputs": [],
   "source": [
    "# Load the tokenizer\n",
    "tokenizer = AutoTokenizer.from_pretrained(model_name)"
   ]
  },
  {
   "cell_type": "markdown",
   "id": "b42a02ce6f4345a2",
   "metadata": {
    "collapsed": false
   },
   "source": [
    "## Data visualization"
   ]
  },
  {
   "cell_type": "code",
   "execution_count": 5,
   "id": "acc5884272c0a695",
   "metadata": {
    "ExecuteTime": {
     "end_time": "2025-03-23T15:18:42.027772400Z",
     "start_time": "2025-03-23T15:18:42.022795600Z"
    },
    "collapsed": false
   },
   "outputs": [],
   "source": [
    "import numpy as np\n",
    "\n",
    "def calculate_percentiles(query_lengths):\n",
    "    # Calculate the 25th, and 75th percentiles\n",
    "    t1 = np.percentile(query_lengths, 25)\n",
    "    t2 = np.percentile(query_lengths, 75)\n",
    "    return int(t1), int(t2)"
   ]
  },
  {
   "cell_type": "code",
   "execution_count": 6,
   "id": "5cd00f05cb5c3db6",
   "metadata": {
    "ExecuteTime": {
     "end_time": "2025-03-23T15:18:42.136074Z",
     "start_time": "2025-03-23T15:18:42.028781900Z"
    },
    "collapsed": false
   },
   "outputs": [
    {
     "name": "stdout",
     "output_type": "stream",
     "text": [
      "t1: 9\n",
      "t2: 15\n"
     ]
    },
    {
     "data": {
      "image/png": "[encoded data removed]",
      "text/plain": [
       "<Figure size 640x480 with 1 Axes>"
      ]
     },
     "metadata": {},
     "output_type": "display_data"
    }
   ],
   "source": [
    "import matplotlib.pyplot as plt\n",
    "from collections import Counter\n",
    "\n",
    "query_lengths = [len(txt.split()) for txt in list(queries.values())]\n",
    "t1, t2 = calculate_percentiles(query_lengths)\n",
    "print(f't1: {t1}')\n",
    "print(f't2: {t2}')\n",
    "ranges = {'short': (1, t1), 'medium': (t1, t2), 'long': (t2, sys.maxsize), 'full': (1, sys.maxsize)}\n",
    "\n",
    "counts = Counter(query_lengths)\n",
    "text_lengths = list(set(query_lengths))\n",
    "\n",
    "counts = [counts[length] for length in text_lengths]\n",
    "# Create bar chart\n",
    "plt.bar(text_lengths, counts)\n",
    "\n",
    "# Add labels\n",
    "plt.xlabel(\"Query length\")\n",
    "plt.ylabel(\"Count\")\n",
    "plt.title(\"Distribution of query lengths\")\n",
    "\n",
    "# Display plot\n",
    "plt.show()\n"
   ]
  },
  {
   "cell_type": "code",
   "execution_count": null,
   "id": "eb38ac736f3866db",
   "metadata": {
    "ExecuteTime": {
     "end_time": "2025-03-23T15:19:45.512414700Z",
     "start_time": "2025-03-23T15:19:45.442043Z"
    },
    "collapsed": false
   },
   "outputs": [
    {
     "data": {
      "image/png": "[encoded data removed]",
      "text/plain": [
       "<Figure size 640x480 with 1 Axes>"
      ]
     },
     "metadata": {},
     "output_type": "display_data"
    }
   ],
   "source": [
    "short = {qid: q for qid, q in queries.items() if 1 <= len(q.split()) <= t1}\n",
    "medium = {qid: q for qid, q in queries.items() if t1 <= len(q.split()) <= t2}\n",
    "long = {qid: q for qid, q in queries.items() if t2 <= len(q.split())}\n",
    "\n",
    "counts = [len(short), len(medium), len(long)]\n",
    "\n",
    "# Create bar chart\n",
    "plt.bar(list(ranges.keys())[:3], counts)\n",
    "\n",
    "# Add labels\n",
    "plt.xlabel(\"Query length\")\n",
    "plt.ylabel(\"Count\")\n",
    "plt.title(\"Distribution of query lengths\")\n",
    "\n",
    "# Display plot\n",
    "plt.show()"
   ]
  },
  {
   "cell_type": "markdown",
   "id": "1a7d9b8e67d5d99",
   "metadata": {
    "collapsed": false
   },
   "source": [
    "### Get test split (if no seperate test set available)"
   ]
  },
  {
   "cell_type": "code",
   "execution_count": 8,
   "id": "61f7a4264e1d88ef",
   "metadata": {
    "ExecuteTime": {
     "end_time": "2025-03-23T15:19:53.021881800Z",
     "start_time": "2025-03-23T15:19:52.999892800Z"
    },
    "collapsed": false
   },
   "outputs": [
    {
     "name": "stdout",
     "output_type": "stream",
     "text": [
      "Dataset size: 809\n",
      "test size: 300\n"
     ]
    }
   ],
   "source": [
    "dp = dataprocessor.DataProcessor(queries, docs, qrels)\n",
    "\n",
    "print(f'Dataset size: {len(queries)}')\n",
    "\n",
    "# first seperate the test set (include queries of all lengths)\n",
    "if not train_available:\n",
    "    query_test, qrel_test = dp.get_testset(test_ratio=0.2, random_state=random_state)\n",
    "    test_dp = dataprocessor.DataProcessor(query_test, docs, qrel_test)\n",
    "    if length_setting=='full':\n",
    "        test_dp_short = dataprocessor.DataProcessor(query_test, docs, qrel_test)\n",
    "        test_dp_medium = dataprocessor.DataProcessor(query_test, docs, qrel_test)\n",
    "        test_dp_long = dataprocessor.DataProcessor(query_test, docs, qrel_test)\n",
    "    print(f'test size: {len(query_test)}')\n",
    "else:\n",
    "    test_dp = dataprocessor.DataProcessor(queries_test, docs_test, qrels_test)\n",
    "    if length_setting=='full':\n",
    "        test_dp_short = dataprocessor.DataProcessor(queries_test, docs_test, qrels_test)\n",
    "        test_dp_medium = dataprocessor.DataProcessor(queries_test, docs_test, qrels_test)\n",
    "        test_dp_long = dataprocessor.DataProcessor(queries_test, docs_test, qrels_test)\n",
    "    print(f'test size: {len(queries_test)}')"
   ]
  },
  {
   "cell_type": "markdown",
   "id": "a14477b476a15142",
   "metadata": {
    "collapsed": false
   },
   "source": [
    "### Query length filtering"
   ]
  },
  {
   "cell_type": "code",
   "execution_count": 9,
   "id": "6a3321bda81a637b",
   "metadata": {
    "ExecuteTime": {
     "end_time": "2025-03-23T15:19:54.495926Z",
     "start_time": "2025-03-23T15:19:54.484698600Z"
    },
    "collapsed": false
   },
   "outputs": [
    {
     "name": "stdout",
     "output_type": "stream",
     "text": [
      "Length range: (1, 9223372036854775807)\n"
     ]
    }
   ],
   "source": [
    "# filter by query length\n",
    "print(f'Length range: {ranges[length_setting]}')\n",
    "query_subset, qrels_subset = dp.get_subset(ranges[length_setting][0], ranges[length_setting][1])  # Adjust min/max length"
   ]
  },
  {
   "cell_type": "code",
   "execution_count": 10,
   "id": "e6e41e27",
   "metadata": {},
   "outputs": [
    {
     "name": "stdout",
     "output_type": "stream",
     "text": [
      "Length range: (1, 9223372036854775807)\n"
     ]
    }
   ],
   "source": [
    "# filter by query length\n",
    "test_sets = {}\n",
    "print(f'Length range: {ranges[length_setting]}')\n",
    "test_sets[length_setting] = test_dp.get_subset(ranges[length_setting][0], ranges[length_setting][1])\n",
    "\n",
    "if length_setting=='full':\n",
    "    test_sets['short'] = test_dp_short.get_subset(ranges['short'][0], ranges['short'][1])\n",
    "    test_sets['medium'] = test_dp_medium.get_subset(ranges['medium'][0], ranges['medium'][1])\n",
    "    test_sets['long'] = test_dp_long.get_subset(ranges['long'][0], ranges['long'][1])"
   ]
  },
  {
   "cell_type": "markdown",
   "id": "442e5dbf79a69d79",
   "metadata": {
    "collapsed": false
   },
   "source": [
    "### Train Val split"
   ]
  },
  {
   "cell_type": "code",
   "execution_count": 11,
   "id": "2d4befbe86e3ba9a",
   "metadata": {
    "ExecuteTime": {
     "end_time": "2025-03-23T15:19:56.586113100Z",
     "start_time": "2025-03-23T15:19:56.573760800Z"
    },
    "collapsed": false
   },
   "outputs": [
    {
     "name": "stdout",
     "output_type": "stream",
     "text": [
      "Length of subset of full validation queries: 162\n",
      "Length of subset of full training queries: 647\n",
      "Length of subset of full queries: 809\n"
     ]
    }
   ],
   "source": [
    "# print(f'Example query from {length_setting} subset:\\n{query_subset.popitem()}')\n",
    "\n",
    "query_train, query_val, qrel_train, qrel_val = dp.train_val_split(train_ratio=0.8, val_ratio=0.2, train_available=train_available, random_state=42)  # adjust if needed\n",
    "\n",
    "print(f'Length of subset of {length_setting} validation queries: {len(query_val)}')\n",
    "print(f'Length of subset of {length_setting} training queries: {len(query_train)}')\n",
    "print(f'Length of subset of {length_setting} queries: {len(query_subset)}')"
   ]
  },
  {
   "cell_type": "markdown",
   "id": "4770b5618b545f18",
   "metadata": {
    "collapsed": false
   },
   "source": [
    "### Check if the qrels already contain negative samples （If not create later)"
   ]
  },
  {
   "cell_type": "code",
   "execution_count": 12,
   "id": "f994281e36a5b927",
   "metadata": {
    "ExecuteTime": {
     "end_time": "2025-03-23T15:20:09.132662500Z",
     "start_time": "2025-03-23T15:20:09.122714100Z"
    },
    "collapsed": false
   },
   "outputs": [
    {
     "name": "stdout",
     "output_type": "stream",
     "text": [
      "Number of negatives in qrels: 0\n"
     ]
    }
   ],
   "source": [
    "qrel_scores = list(qrels.values()) \n",
    "relevance_scores = [list(item.values()) for item in qrel_scores]\n",
    "num_negatives = relevance_scores[0].count(0)\n",
    "print(f'Number of negatives in qrels: {num_negatives}')"
   ]
  },
  {
   "cell_type": "markdown",
   "id": "58324ddeb0b3c7bf",
   "metadata": {
    "collapsed": false
   },
   "source": [
    "### Create datasets and data loaders"
   ]
  },
  {
   "cell_type": "code",
   "execution_count": 13,
   "id": "f2c28f2f",
   "metadata": {},
   "outputs": [],
   "source": [
    "test = []\n",
    "for key, value in qrels.items():\n",
    "    test.append(len(value))"
   ]
  },
  {
   "cell_type": "code",
   "execution_count": 14,
   "id": "e359da0c",
   "metadata": {},
   "outputs": [
    {
     "data": {
      "text/plain": [
       "5"
      ]
     },
     "execution_count": 14,
     "metadata": {},
     "output_type": "execute_result"
    }
   ],
   "source": [
    "max(test)"
   ]
  },
  {
   "cell_type": "code",
   "execution_count": 15,
   "id": "66d2c4809c9f3d5d",
   "metadata": {
    "ExecuteTime": {
     "start_time": "2025-03-23T15:20:11.172317300Z"
    },
    "collapsed": false,
    "is_executing": true
   },
   "outputs": [
    {
     "name": "stdout",
     "output_type": "stream",
     "text": [
      "Creating training dataset...\n"
     ]
    },
    {
     "name": "stderr",
     "output_type": "stream",
     "text": [
      "100%|██████████| 647/647 [00:00<00:00, 4198.58it/s]\n"
     ]
    },
    {
     "name": "stdout",
     "output_type": "stream",
     "text": [
      "Creating validation dataset...\n"
     ]
    },
    {
     "name": "stderr",
     "output_type": "stream",
     "text": [
      "100%|██████████| 162/162 [00:00<00:00, 4119.07it/s]\n"
     ]
    }
   ],
   "source": [
    "print('Creating training dataset...')\n",
    "train_dataset = TripletRankingDataset(query_train, docs, qrel_train, tokenizer, num_negatives, max_length=max_len_doc, neg_sample_size=5)\n",
    "train_loader = DataLoader(train_dataset, batch_size=24, shuffle=True)\n",
    "\n",
    "print('Creating validation dataset...')\n",
    "val_dataset = TripletRankingDataset(query_val, docs, qrel_val, tokenizer, num_negatives,max_length=max_len_doc, neg_sample_size=5)\n",
    "val_loader = DataLoader(val_dataset, batch_size=24, shuffle=True)"
   ]
  },
  {
   "cell_type": "code",
   "execution_count": 16,
   "id": "96f08afa",
   "metadata": {},
   "outputs": [
    {
     "name": "stdout",
     "output_type": "stream",
     "text": [
      "Creating testing dataset...\n"
     ]
    },
    {
     "name": "stderr",
     "output_type": "stream",
     "text": [
      "100%|██████████| 300/300 [00:00<00:00, 3890.92it/s]\n",
      "100%|██████████| 92/92 [00:00<00:00, 4424.42it/s]\n",
      "100%|██████████| 162/162 [00:00<00:00, 3895.77it/s]\n",
      "100%|██████████| 85/85 [00:00<00:00, 4073.35it/s]\n"
     ]
    }
   ],
   "source": [
    "print('Creating testing dataset...')\n",
    "for l_setting, test_set in test_sets.items():\n",
    "    queries_test = test_set[0]\n",
    "    qrels_test = test_set[1]\n",
    "    if train_available:\n",
    "        test_dataset = TripletRankingDataset(queries_test, docs_test, qrels_test, tokenizer, num_negatives,max_length=max_len_doc, neg_sample_size=5)\n",
    "        test_loader = DataLoader(test_dataset, batch_size=24, shuffle=True)\n",
    "    else:\n",
    "        test_dataset = TripletRankingDataset(queries_test, docs, qrels_test, tokenizer, num_negatives,max_length=max_len_doc, neg_sample_size=5) \n",
    "        test_loader = DataLoader(test_dataset, batch_size=24, shuffle=True)\n",
    "    test_sets[l_setting] = [queries_test, qrels_test, test_loader]"
   ]
  },
  {
   "cell_type": "markdown",
   "id": "33f7b31408fdfbf7",
   "metadata": {
    "collapsed": false
   },
   "source": [
    "### Initialize model"
   ]
  },
  {
   "cell_type": "code",
   "execution_count": 17,
   "id": "90d4dda153d8d4a0",
   "metadata": {
    "ExecuteTime": {
     "start_time": "2025-03-23T15:18:42.662976600Z"
    },
    "collapsed": false
   },
   "outputs": [],
   "source": [
    "# Initialize model and optimizer\n",
    "device = torch.device(\"cuda\" if torch.cuda.is_available() else \"cpu\")\n",
    "model = models.TripletRankerModel(model_name).to(device)\n",
    "optimizer = AdamW(model.parameters(), lr=2e-5)\n",
    "model_path = os.path.join(os.getcwd(), f'models/{model_name}+{dataset_name}+{length_setting}_queries.pth')"
   ]
  },
  {
   "cell_type": "markdown",
   "id": "b346b91371f8ee56",
   "metadata": {
    "collapsed": false
   },
   "source": [
    "### Train model (load directly if already trained)"
   ]
  },
  {
   "cell_type": "code",
   "execution_count": 18,
   "id": "61696e2993e57d70",
   "metadata": {
    "ExecuteTime": {
     "start_time": "2025-03-23T15:18:42.664166500Z"
    },
    "collapsed": false
   },
   "outputs": [],
   "source": [
    "if os.path.isfile(model_path):\n",
    "    model.load_state_dict(torch.load(model_path, map_location=device))\n",
    "else:\n",
    "    # Train the model\n",
    "    model = train.train_triplet_ranker(model, train_loader, val_loader, optimizer, device, model_path, epochs=10)"
   ]
  },
  {
   "cell_type": "markdown",
   "id": "374c2aab9651bcba",
   "metadata": {
    "collapsed": false
   },
   "source": [
    "## Run inference on test set & write results on output"
   ]
  },
  {
   "cell_type": "code",
   "execution_count": null,
   "id": "156e9f0f994a8821",
   "metadata": {
    "ExecuteTime": {
     "start_time": "2025-03-23T15:18:42.664166500Z"
    },
    "collapsed": false
   },
   "outputs": [
    {
     "name": "stdout",
     "output_type": "stream",
     "text": [
      "\n",
      "Evaluating full model on full test dataset (300) samples\n"
     ]
    },
    {
     "name": "stderr",
     "output_type": "stream",
     "text": [
      "Evaluating: 100%|██████████| 71/71 [00:48<00:00,  1.45it/s]\n"
     ]
    },
    {
     "name": "stdout",
     "output_type": "stream",
     "text": [
      "Metric nDCG@10 score: 0.9006\n",
      "Metric nDCG@100 score: 0.9026\n",
      "Metric AP@10 score: 0.8676\n",
      "Metric AP@100 score: 0.8685\n",
      "Metric P@10 score: 0.1113\n",
      "Metric R@10 score: 0.9947\n",
      "Metric P@100 score: 0.0113\n",
      "Metric R@100 score: 1.0000\n",
      "Metric RR score: 0.8723\n",
      "\n",
      "Evaluating full model on short test dataset (92) samples\n"
     ]
    },
    {
     "name": "stderr",
     "output_type": "stream",
     "text": [
      "Evaluating: 100%|██████████| 22/22 [00:15<00:00,  1.45it/s]\n"
     ]
    },
    {
     "name": "stdout",
     "output_type": "stream",
     "text": [
      "Metric nDCG@10 score: 0.9154\n",
      "Metric nDCG@100 score: 0.9154\n",
      "Metric AP@10 score: 0.8857\n",
      "Metric AP@100 score: 0.8857\n",
      "Metric P@10 score: 0.1141\n",
      "Metric R@10 score: 1.0000\n",
      "Metric P@100 score: 0.0114\n",
      "Metric R@100 score: 1.0000\n",
      "Metric RR score: 0.8877\n",
      "\n",
      "Evaluating full model on medium test dataset (162) samples\n"
     ]
    },
    {
     "name": "stderr",
     "output_type": "stream",
     "text": [
      "Evaluating: 100%|██████████| 37/37 [00:25<00:00,  1.44it/s]\n"
     ]
    },
    {
     "name": "stdout",
     "output_type": "stream",
     "text": [
      "Metric nDCG@10 score: 0.9048\n",
      "Metric nDCG@100 score: 0.9069\n",
      "Metric AP@10 score: 0.8741\n",
      "Metric AP@100 score: 0.8749\n",
      "Metric P@10 score: 0.1074\n",
      "Metric R@10 score: 0.9938\n",
      "Metric P@100 score: 0.0109\n",
      "Metric R@100 score: 1.0000\n",
      "Metric RR score: 0.8758\n",
      "\n",
      "Evaluating full model on long test dataset (85) samples\n"
     ]
    },
    {
     "name": "stderr",
     "output_type": "stream",
     "text": [
      "Evaluating: 100%|██████████| 22/22 [00:14<00:00,  1.47it/s]"
     ]
    },
    {
     "name": "stdout",
     "output_type": "stream",
     "text": [
      "Metric nDCG@10 score: 0.8909\n",
      "Metric nDCG@100 score: 0.8939\n",
      "Metric AP@10 score: 0.8533\n",
      "Metric AP@100 score: 0.8552\n",
      "Metric P@10 score: 0.1165\n",
      "Metric R@10 score: 0.9929\n",
      "Metric P@100 score: 0.0120\n",
      "Metric R@100 score: 1.0000\n",
      "Metric RR score: 0.8639\n"
     ]
    },
    {
     "name": "stderr",
     "output_type": "stream",
     "text": [
      "\n"
     ]
    }
   ],
   "source": [
    "# Example usage (replace with your data and model)\n",
    "for l_setting, test_set in test_sets.items():\n",
    "    qrels_test = test_set[1]\n",
    "    test_loader = test_set[2]\n",
    "    print(f\"\\nEvaluating {length_setting} model on {l_setting} test dataset ({len(qrels_test)} samples)\")\n",
    "    if train_available:\n",
    "        metric_scores = inference.evaluate(model, test_loader, device, qrels_test)\n",
    "    else:\n",
    "        metric_scores = inference.evaluate(model, test_loader, device, qrels_test)\n",
    "        \n",
    "    for metric in metrics:\n",
    "        print(f'Metric {metric} score: {metric_scores[metric]:.4f}')\n",
    "\n",
    "    # Save results to a file\n",
    "    with open(f\"results/{model_name}+{dataset_name}+{length_setting}+evaluation+{l_setting}_queries.txt\", \"w\") as f:\n",
    "        f.write(f\"Evaluation Results for {model_name} model finetuned on {length_setting} queries from {dataset_name} dataset:\\n\")\n",
    "        f.write(f\"normalized Discounted Cumulative Gain@10: {metric_scores[nDCG@10]:.4f}\\n\")\n",
    "        f.write(f\"normalized Discounted Cumulative Gain@100: {metric_scores[nDCG@100]:.4f}\\n\")\n",
    "        f.write(f\"\\n\")\n",
    "        f.write(f\"[Mean] Average Precision@10: {metric_scores[AP@10]:.4f}\\n\")\n",
    "        f.write(f\"[Mean] Average Precision@100: {metric_scores[AP@100]:.4f}\\n\")\n",
    "        f.write(f\"\\n\")\n",
    "        f.write(f\"Precision@10: {metric_scores[P@10]:.4f}\\n\")\n",
    "        f.write(f\"Recall@10: {metric_scores[R@10]:.4f}\\n\")\n",
    "        f.write(f\"\\n\")\n",
    "        f.write(f\"Precision@100: {metric_scores[P@100]:.4f}\\n\")\n",
    "        f.write(f\"Recall@100: {metric_scores[R@100]:.4f}\\n\")\n",
    "        f.write(f\"\\n\")\n",
    "        f.write(f\"[Mean] Reciprocal Rank: {metric_scores[RR]:.4f}\\n\")\n",
    "        f.write(f\"\\n\")\n",
    "        f.write(f\"----------------------------------------------------\\n\")\n",
    "        f.write(f\"\\n\")\n",
    "        f.write(f\"Explanation of metrics:\\n\")\n",
    "        f.write(f\"NDCG@k (Normalized Discounted Cumulative Gain: Ranking Quality | Prioritizes highly relevant documents appearing earlier in the ranking.\\n\")\n",
    "        f.write(f\"MAP (Mean Average Precision): Overall Relevance | Measures ranking precision across all relevant documents. Best for small-scale retrieval tasks.\\n\")\n",
    "        f.write(f\"Precision@k: Relevance | Measures how many of the top-k documents are relevant. Works well in precision-sensitive applications.\\n\")\n",
    "        f.write(f\"Recall@k: Coverage | Measures how many relevant documents appear in the top-k results. Important in recall-sensitive tasks.\\n\")\n",
    "        f.write(f\"MRR (Mean Reciprocal Rank): Single Relevant Result | Focuses on ranking the first relevant document. Good for QA tasks.\\n\")"
   ]
  }
 ],
 "metadata": {
  "kernelspec": {
   "display_name": "IRvenv",
   "language": "python",
   "name": "python3"
  },
  "language_info": {
   "codemirror_mode": {
    "name": "ipython",
    "version": 3
   },
   "file_extension": ".py",
   "mimetype": "text/x-python",
   "name": "python",
   "nbconvert_exporter": "python",
   "pygments_lexer": "ipython3",
   "version": "3.12.3"
  }
 },
 "nbformat": 4,
 "nbformat_minor": 5
}
